{
 "cells": [
  {
   "cell_type": "markdown",
   "id": "8c49e2b9-a6f8-46c0-962a-74483803c692",
   "metadata": {},
   "source": [
    "# Coding Etiquette & Reporting"
   ]
  },
  {
   "cell_type": "markdown",
   "id": "31cefd37",
   "metadata": {},
   "source": [
    "# This Script Contains:\n",
    "1. Import Libraries & Data\n",
    "2. Task 2 - Privacy & Security\n",
    "3. Task 3 - Create Region Category & Crosstab\n",
    "4. Task 4 - Create exclusion flag for low activity customers\n",
    "5. Task 5a - Create Profiling Variables - Parent Status\n",
    "6. Task 5b - Create Profiling Variables - Age Groups\n",
    "7. Task 5c - Create Profiling Variables - Income\n",
    "8. Task 5d - Create Profiling Variables - Dependents\n",
    "9. Task 6a - Create Visualizations - Age Groups\n",
    "10. Task 6b - Create Visualizations - Parent Status\n",
    "11. Task 6c - Create Visualizations - Income\n",
    "12. Task 6d - Create Visualizations - Dependants\n",
    "13. Task 7a - Aggregation - Age Groups\n",
    "14. Task 7b - Aggregation - Income\n",
    "15. Task 7c - Aggregation - Dependents\n",
    "16. Task 8 - Region/Department Comparisons\n",
    "17. Export Data Sets"
   ]
  },
  {
   "cell_type": "markdown",
   "id": "85cfb760",
   "metadata": {},
   "source": [
    "# Import Libraries & Data"
   ]
  },
  {
   "cell_type": "code",
   "execution_count": 1,
   "id": "3188ed26",
   "metadata": {},
   "outputs": [],
   "source": [
    "# Import Libraries\n",
    "\n",
    "import pandas as pd\n",
    "import numpy as np\n",
    "import seaborn as sns\n",
    "import scipy as sc\n",
    "import matplotlib.pyplot as plt\n",
    "import os"
   ]
  },
  {
   "cell_type": "code",
   "execution_count": 2,
   "id": "72f0fb0e",
   "metadata": {},
   "outputs": [],
   "source": [
    "# Setting file path\n",
    "\n",
    "path = r'C:\\Users\\cschw\\OneDrive\\Desktop\\Achievement 4\\Instacart Basket Analysis'"
   ]
  },
  {
   "cell_type": "code",
   "execution_count": 3,
   "id": "69243bf2",
   "metadata": {},
   "outputs": [],
   "source": [
    "# Import orders_products_merged\n",
    "\n",
    "instacart = pd.read_pickle(os.path.join(path, 'Data', 'Prepared Data', 'orders_products_customers_merged.pkl'))"
   ]
  },
  {
   "cell_type": "code",
   "execution_count": 4,
   "id": "0359d864",
   "metadata": {},
   "outputs": [
    {
     "data": {
      "text/plain": [
       "(32404859, 34)"
      ]
     },
     "execution_count": 4,
     "metadata": {},
     "output_type": "execute_result"
    }
   ],
   "source": [
    "# Check Shape\n",
    "\n",
    "instacart.shape"
   ]
  },
  {
   "cell_type": "code",
   "execution_count": 5,
   "id": "07d14212",
   "metadata": {},
   "outputs": [
    {
     "data": {
      "text/html": [
       "<div>\n",
       "<style scoped>\n",
       "    .dataframe tbody tr th:only-of-type {\n",
       "        vertical-align: middle;\n",
       "    }\n",
       "\n",
       "    .dataframe tbody tr th {\n",
       "        vertical-align: top;\n",
       "    }\n",
       "\n",
       "    .dataframe thead th {\n",
       "        text-align: right;\n",
       "    }\n",
       "</style>\n",
       "<table border=\"1\" class=\"dataframe\">\n",
       "  <thead>\n",
       "    <tr style=\"text-align: right;\">\n",
       "      <th></th>\n",
       "      <th>order_id</th>\n",
       "      <th>user_id</th>\n",
       "      <th>eval_set</th>\n",
       "      <th>order_number</th>\n",
       "      <th>order_dow</th>\n",
       "      <th>order_hour_of_day</th>\n",
       "      <th>days_since_prior_order</th>\n",
       "      <th>product_id</th>\n",
       "      <th>add_to_cart_order</th>\n",
       "      <th>reordered</th>\n",
       "      <th>...</th>\n",
       "      <th>first_name</th>\n",
       "      <th>surname</th>\n",
       "      <th>gender</th>\n",
       "      <th>state</th>\n",
       "      <th>age</th>\n",
       "      <th>date_joined</th>\n",
       "      <th>n_dependants</th>\n",
       "      <th>marital_status</th>\n",
       "      <th>income</th>\n",
       "      <th>_merge</th>\n",
       "    </tr>\n",
       "  </thead>\n",
       "  <tbody>\n",
       "    <tr>\n",
       "      <th>0</th>\n",
       "      <td>2539329</td>\n",
       "      <td>1</td>\n",
       "      <td>prior</td>\n",
       "      <td>1</td>\n",
       "      <td>2</td>\n",
       "      <td>8</td>\n",
       "      <td>NaN</td>\n",
       "      <td>196</td>\n",
       "      <td>1</td>\n",
       "      <td>0</td>\n",
       "      <td>...</td>\n",
       "      <td>Linda</td>\n",
       "      <td>Nguyen</td>\n",
       "      <td>Female</td>\n",
       "      <td>Alabama</td>\n",
       "      <td>31</td>\n",
       "      <td>2/17/2019</td>\n",
       "      <td>3</td>\n",
       "      <td>married</td>\n",
       "      <td>40423</td>\n",
       "      <td>both</td>\n",
       "    </tr>\n",
       "    <tr>\n",
       "      <th>1</th>\n",
       "      <td>2398795</td>\n",
       "      <td>1</td>\n",
       "      <td>prior</td>\n",
       "      <td>2</td>\n",
       "      <td>3</td>\n",
       "      <td>7</td>\n",
       "      <td>15.0</td>\n",
       "      <td>196</td>\n",
       "      <td>1</td>\n",
       "      <td>1</td>\n",
       "      <td>...</td>\n",
       "      <td>Linda</td>\n",
       "      <td>Nguyen</td>\n",
       "      <td>Female</td>\n",
       "      <td>Alabama</td>\n",
       "      <td>31</td>\n",
       "      <td>2/17/2019</td>\n",
       "      <td>3</td>\n",
       "      <td>married</td>\n",
       "      <td>40423</td>\n",
       "      <td>both</td>\n",
       "    </tr>\n",
       "    <tr>\n",
       "      <th>2</th>\n",
       "      <td>473747</td>\n",
       "      <td>1</td>\n",
       "      <td>prior</td>\n",
       "      <td>3</td>\n",
       "      <td>3</td>\n",
       "      <td>12</td>\n",
       "      <td>21.0</td>\n",
       "      <td>196</td>\n",
       "      <td>1</td>\n",
       "      <td>1</td>\n",
       "      <td>...</td>\n",
       "      <td>Linda</td>\n",
       "      <td>Nguyen</td>\n",
       "      <td>Female</td>\n",
       "      <td>Alabama</td>\n",
       "      <td>31</td>\n",
       "      <td>2/17/2019</td>\n",
       "      <td>3</td>\n",
       "      <td>married</td>\n",
       "      <td>40423</td>\n",
       "      <td>both</td>\n",
       "    </tr>\n",
       "    <tr>\n",
       "      <th>3</th>\n",
       "      <td>2254736</td>\n",
       "      <td>1</td>\n",
       "      <td>prior</td>\n",
       "      <td>4</td>\n",
       "      <td>4</td>\n",
       "      <td>7</td>\n",
       "      <td>29.0</td>\n",
       "      <td>196</td>\n",
       "      <td>1</td>\n",
       "      <td>1</td>\n",
       "      <td>...</td>\n",
       "      <td>Linda</td>\n",
       "      <td>Nguyen</td>\n",
       "      <td>Female</td>\n",
       "      <td>Alabama</td>\n",
       "      <td>31</td>\n",
       "      <td>2/17/2019</td>\n",
       "      <td>3</td>\n",
       "      <td>married</td>\n",
       "      <td>40423</td>\n",
       "      <td>both</td>\n",
       "    </tr>\n",
       "    <tr>\n",
       "      <th>4</th>\n",
       "      <td>431534</td>\n",
       "      <td>1</td>\n",
       "      <td>prior</td>\n",
       "      <td>5</td>\n",
       "      <td>4</td>\n",
       "      <td>15</td>\n",
       "      <td>28.0</td>\n",
       "      <td>196</td>\n",
       "      <td>1</td>\n",
       "      <td>1</td>\n",
       "      <td>...</td>\n",
       "      <td>Linda</td>\n",
       "      <td>Nguyen</td>\n",
       "      <td>Female</td>\n",
       "      <td>Alabama</td>\n",
       "      <td>31</td>\n",
       "      <td>2/17/2019</td>\n",
       "      <td>3</td>\n",
       "      <td>married</td>\n",
       "      <td>40423</td>\n",
       "      <td>both</td>\n",
       "    </tr>\n",
       "    <tr>\n",
       "      <th>5</th>\n",
       "      <td>3367565</td>\n",
       "      <td>1</td>\n",
       "      <td>prior</td>\n",
       "      <td>6</td>\n",
       "      <td>2</td>\n",
       "      <td>7</td>\n",
       "      <td>19.0</td>\n",
       "      <td>196</td>\n",
       "      <td>1</td>\n",
       "      <td>1</td>\n",
       "      <td>...</td>\n",
       "      <td>Linda</td>\n",
       "      <td>Nguyen</td>\n",
       "      <td>Female</td>\n",
       "      <td>Alabama</td>\n",
       "      <td>31</td>\n",
       "      <td>2/17/2019</td>\n",
       "      <td>3</td>\n",
       "      <td>married</td>\n",
       "      <td>40423</td>\n",
       "      <td>both</td>\n",
       "    </tr>\n",
       "    <tr>\n",
       "      <th>6</th>\n",
       "      <td>550135</td>\n",
       "      <td>1</td>\n",
       "      <td>prior</td>\n",
       "      <td>7</td>\n",
       "      <td>1</td>\n",
       "      <td>9</td>\n",
       "      <td>20.0</td>\n",
       "      <td>196</td>\n",
       "      <td>1</td>\n",
       "      <td>1</td>\n",
       "      <td>...</td>\n",
       "      <td>Linda</td>\n",
       "      <td>Nguyen</td>\n",
       "      <td>Female</td>\n",
       "      <td>Alabama</td>\n",
       "      <td>31</td>\n",
       "      <td>2/17/2019</td>\n",
       "      <td>3</td>\n",
       "      <td>married</td>\n",
       "      <td>40423</td>\n",
       "      <td>both</td>\n",
       "    </tr>\n",
       "    <tr>\n",
       "      <th>7</th>\n",
       "      <td>3108588</td>\n",
       "      <td>1</td>\n",
       "      <td>prior</td>\n",
       "      <td>8</td>\n",
       "      <td>1</td>\n",
       "      <td>14</td>\n",
       "      <td>14.0</td>\n",
       "      <td>196</td>\n",
       "      <td>2</td>\n",
       "      <td>1</td>\n",
       "      <td>...</td>\n",
       "      <td>Linda</td>\n",
       "      <td>Nguyen</td>\n",
       "      <td>Female</td>\n",
       "      <td>Alabama</td>\n",
       "      <td>31</td>\n",
       "      <td>2/17/2019</td>\n",
       "      <td>3</td>\n",
       "      <td>married</td>\n",
       "      <td>40423</td>\n",
       "      <td>both</td>\n",
       "    </tr>\n",
       "    <tr>\n",
       "      <th>8</th>\n",
       "      <td>2295261</td>\n",
       "      <td>1</td>\n",
       "      <td>prior</td>\n",
       "      <td>9</td>\n",
       "      <td>1</td>\n",
       "      <td>16</td>\n",
       "      <td>0.0</td>\n",
       "      <td>196</td>\n",
       "      <td>4</td>\n",
       "      <td>1</td>\n",
       "      <td>...</td>\n",
       "      <td>Linda</td>\n",
       "      <td>Nguyen</td>\n",
       "      <td>Female</td>\n",
       "      <td>Alabama</td>\n",
       "      <td>31</td>\n",
       "      <td>2/17/2019</td>\n",
       "      <td>3</td>\n",
       "      <td>married</td>\n",
       "      <td>40423</td>\n",
       "      <td>both</td>\n",
       "    </tr>\n",
       "    <tr>\n",
       "      <th>9</th>\n",
       "      <td>2550362</td>\n",
       "      <td>1</td>\n",
       "      <td>prior</td>\n",
       "      <td>10</td>\n",
       "      <td>4</td>\n",
       "      <td>8</td>\n",
       "      <td>30.0</td>\n",
       "      <td>196</td>\n",
       "      <td>1</td>\n",
       "      <td>1</td>\n",
       "      <td>...</td>\n",
       "      <td>Linda</td>\n",
       "      <td>Nguyen</td>\n",
       "      <td>Female</td>\n",
       "      <td>Alabama</td>\n",
       "      <td>31</td>\n",
       "      <td>2/17/2019</td>\n",
       "      <td>3</td>\n",
       "      <td>married</td>\n",
       "      <td>40423</td>\n",
       "      <td>both</td>\n",
       "    </tr>\n",
       "  </tbody>\n",
       "</table>\n",
       "<p>10 rows × 34 columns</p>\n",
       "</div>"
      ],
      "text/plain": [
       "  order_id user_id eval_set  order_number  order_dow  order_hour_of_day  \\\n",
       "0  2539329       1    prior             1          2                  8   \n",
       "1  2398795       1    prior             2          3                  7   \n",
       "2   473747       1    prior             3          3                 12   \n",
       "3  2254736       1    prior             4          4                  7   \n",
       "4   431534       1    prior             5          4                 15   \n",
       "5  3367565       1    prior             6          2                  7   \n",
       "6   550135       1    prior             7          1                  9   \n",
       "7  3108588       1    prior             8          1                 14   \n",
       "8  2295261       1    prior             9          1                 16   \n",
       "9  2550362       1    prior            10          4                  8   \n",
       "\n",
       "   days_since_prior_order  product_id  add_to_cart_order  reordered  ...  \\\n",
       "0                     NaN         196                  1          0  ...   \n",
       "1                    15.0         196                  1          1  ...   \n",
       "2                    21.0         196                  1          1  ...   \n",
       "3                    29.0         196                  1          1  ...   \n",
       "4                    28.0         196                  1          1  ...   \n",
       "5                    19.0         196                  1          1  ...   \n",
       "6                    20.0         196                  1          1  ...   \n",
       "7                    14.0         196                  2          1  ...   \n",
       "8                     0.0         196                  4          1  ...   \n",
       "9                    30.0         196                  1          1  ...   \n",
       "\n",
       "  first_name  surname  gender    state age date_joined n_dependants  \\\n",
       "0      Linda   Nguyen  Female  Alabama  31   2/17/2019            3   \n",
       "1      Linda   Nguyen  Female  Alabama  31   2/17/2019            3   \n",
       "2      Linda   Nguyen  Female  Alabama  31   2/17/2019            3   \n",
       "3      Linda   Nguyen  Female  Alabama  31   2/17/2019            3   \n",
       "4      Linda   Nguyen  Female  Alabama  31   2/17/2019            3   \n",
       "5      Linda   Nguyen  Female  Alabama  31   2/17/2019            3   \n",
       "6      Linda   Nguyen  Female  Alabama  31   2/17/2019            3   \n",
       "7      Linda   Nguyen  Female  Alabama  31   2/17/2019            3   \n",
       "8      Linda   Nguyen  Female  Alabama  31   2/17/2019            3   \n",
       "9      Linda   Nguyen  Female  Alabama  31   2/17/2019            3   \n",
       "\n",
       "  marital_status  income _merge  \n",
       "0        married   40423   both  \n",
       "1        married   40423   both  \n",
       "2        married   40423   both  \n",
       "3        married   40423   both  \n",
       "4        married   40423   both  \n",
       "5        married   40423   both  \n",
       "6        married   40423   both  \n",
       "7        married   40423   both  \n",
       "8        married   40423   both  \n",
       "9        married   40423   both  \n",
       "\n",
       "[10 rows x 34 columns]"
      ]
     },
     "execution_count": 5,
     "metadata": {},
     "output_type": "execute_result"
    }
   ],
   "source": [
    "# Check head\n",
    "\n",
    "instacart.head(10)"
   ]
  },
  {
   "cell_type": "markdown",
   "id": "5b6a6ce8",
   "metadata": {},
   "source": [
    "# Task 2 - Privacy  & Security "
   ]
  },
  {
   "cell_type": "code",
   "execution_count": 6,
   "id": "022e184c",
   "metadata": {},
   "outputs": [
    {
     "data": {
      "text/plain": [
       "Index(['order_id', 'user_id', 'eval_set', 'order_number', 'order_dow',\n",
       "       'order_hour_of_day', 'days_since_prior_order', 'product_id',\n",
       "       'add_to_cart_order', 'reordered', 'product_name', 'aisle_id',\n",
       "       'department_id', 'prices', 'price_range_loc', 'busiest_day',\n",
       "       'busiest_days', 'busiest_period_of_day', 'max_order', 'loyalty_flag',\n",
       "       'mean_product_price', 'spending_flag', 'median_days_between_orders',\n",
       "       'order_frequency', 'first_name', 'surname', 'gender', 'state', 'age',\n",
       "       'date_joined', 'n_dependants', 'marital_status', 'income', '_merge'],\n",
       "      dtype='object')"
      ]
     },
     "execution_count": 6,
     "metadata": {},
     "output_type": "execute_result"
    }
   ],
   "source": [
    "# Check column names\n",
    "\n",
    "instacart.columns"
   ]
  },
  {
   "cell_type": "code",
   "execution_count": 7,
   "id": "2dd30e6d",
   "metadata": {},
   "outputs": [],
   "source": [
    "# Remove the 'First Name' and Surname' columns to comply with security best practices\n",
    "\n",
    "instacart.drop(['first_name', 'surname'], axis=1, inplace = True)"
   ]
  },
  {
   "cell_type": "markdown",
   "id": "7e8b8cc9",
   "metadata": {},
   "source": [
    "# Task 3 - Create Region Category for Data & Crosstab"
   ]
  },
  {
   "cell_type": "code",
   "execution_count": 8,
   "id": "0847c5e7",
   "metadata": {},
   "outputs": [],
   "source": [
    "# Create list of Northeast states\n",
    "\n",
    "Northeast_states = ['Maine', 'New Hampshire', 'Vermont', 'Massachusetts', 'Rhode Island', 'Connecticut', 'New York', 'Pennsylvania', 'New Jersey']"
   ]
  },
  {
   "cell_type": "code",
   "execution_count": 9,
   "id": "1c43d051",
   "metadata": {},
   "outputs": [],
   "source": [
    "# Create list of Midwest states\n",
    "\n",
    "Midwest_states = ['Wisconsin', 'Michigan', 'Illinois', 'Indiana', 'Ohio', 'North Dakota', 'South Dakota', 'Nebraska', 'Kansas', 'Minnesota', 'Iowa', 'Missouri']"
   ]
  },
  {
   "cell_type": "code",
   "execution_count": 10,
   "id": "34e8a5f1",
   "metadata": {},
   "outputs": [],
   "source": [
    "# Create list of South states\n",
    "\n",
    "South_states = ['Delaware', 'Maryland', 'District of Columbia', 'Virginia', 'West Virginia', 'North Carolina', 'South Carolina', 'Georgia', 'Florida', 'Kentucky', 'Tennessee', 'Mississippi', 'Alabama', 'Oklahoma', 'Texas', 'Arkansas', 'Louisiana']"
   ]
  },
  {
   "cell_type": "code",
   "execution_count": 11,
   "id": "f2ddb110",
   "metadata": {},
   "outputs": [],
   "source": [
    "# Create list of West states\n",
    "\n",
    "West_states = ['Idaho', 'Montana', 'Wyoming', 'Nevada', 'Utah', 'Colorado', 'Arizona', 'New Mexico', 'Alaska', 'Washington', 'Oregon', 'California', 'Hawaii']"
   ]
  },
  {
   "cell_type": "code",
   "execution_count": 12,
   "id": "0376d68a",
   "metadata": {},
   "outputs": [],
   "source": [
    "# Set Region for States\n",
    "\n",
    "instacart.loc[instacart['state'].isin(Northeast_states), 'Region'] = 'Northeast'"
   ]
  },
  {
   "cell_type": "code",
   "execution_count": 13,
   "id": "d02747ee",
   "metadata": {},
   "outputs": [],
   "source": [
    "instacart.loc[instacart['state'].isin(Midwest_states), 'Region'] = 'Midwest'"
   ]
  },
  {
   "cell_type": "code",
   "execution_count": 14,
   "id": "cde38bc0",
   "metadata": {},
   "outputs": [],
   "source": [
    "instacart.loc[instacart['state'].isin(South_states), 'Region'] = 'South'"
   ]
  },
  {
   "cell_type": "code",
   "execution_count": 15,
   "id": "c83ced70",
   "metadata": {},
   "outputs": [],
   "source": [
    "instacart.loc[instacart['state'].isin(West_states), 'Region'] = 'West'"
   ]
  },
  {
   "cell_type": "code",
   "execution_count": 16,
   "id": "49908958",
   "metadata": {},
   "outputs": [
    {
     "data": {
      "text/plain": [
       "Region\n",
       "South        10791885\n",
       "West          8292913\n",
       "Midwest       7597325\n",
       "Northeast     5722736\n",
       "Name: count, dtype: int64"
      ]
     },
     "execution_count": 16,
     "metadata": {},
     "output_type": "execute_result"
    }
   ],
   "source": [
    "instacart['Region'].value_counts(dropna = False)"
   ]
  },
  {
   "cell_type": "code",
   "execution_count": 17,
   "id": "801ae0f1",
   "metadata": {},
   "outputs": [],
   "source": [
    "# Create a crosstab of the Region and Spending Flag columns to cross check spendin status by region\n",
    "\n",
    "region_spending_crosstab = pd.crosstab(instacart['Region'], instacart['spending_flag'], dropna = False)"
   ]
  },
  {
   "cell_type": "code",
   "execution_count": 18,
   "id": "0023963c",
   "metadata": {},
   "outputs": [
    {
     "data": {
      "text/html": [
       "<div>\n",
       "<style scoped>\n",
       "    .dataframe tbody tr th:only-of-type {\n",
       "        vertical-align: middle;\n",
       "    }\n",
       "\n",
       "    .dataframe tbody tr th {\n",
       "        vertical-align: top;\n",
       "    }\n",
       "\n",
       "    .dataframe thead th {\n",
       "        text-align: right;\n",
       "    }\n",
       "</style>\n",
       "<table border=\"1\" class=\"dataframe\">\n",
       "  <thead>\n",
       "    <tr style=\"text-align: right;\">\n",
       "      <th>spending_flag</th>\n",
       "      <th>High Spender</th>\n",
       "      <th>Low Spender</th>\n",
       "    </tr>\n",
       "    <tr>\n",
       "      <th>Region</th>\n",
       "      <th></th>\n",
       "      <th></th>\n",
       "    </tr>\n",
       "  </thead>\n",
       "  <tbody>\n",
       "    <tr>\n",
       "      <th>Midwest</th>\n",
       "      <td>155975</td>\n",
       "      <td>7441350</td>\n",
       "    </tr>\n",
       "    <tr>\n",
       "      <th>Northeast</th>\n",
       "      <td>108225</td>\n",
       "      <td>5614511</td>\n",
       "    </tr>\n",
       "    <tr>\n",
       "      <th>South</th>\n",
       "      <td>209691</td>\n",
       "      <td>10582194</td>\n",
       "    </tr>\n",
       "    <tr>\n",
       "      <th>West</th>\n",
       "      <td>160354</td>\n",
       "      <td>8132559</td>\n",
       "    </tr>\n",
       "  </tbody>\n",
       "</table>\n",
       "</div>"
      ],
      "text/plain": [
       "spending_flag  High Spender  Low Spender\n",
       "Region                                  \n",
       "Midwest              155975      7441350\n",
       "Northeast            108225      5614511\n",
       "South                209691     10582194\n",
       "West                 160354      8132559"
      ]
     },
     "execution_count": 18,
     "metadata": {},
     "output_type": "execute_result"
    }
   ],
   "source": [
    "# Dispaly region_spending_crosstab\n",
    "\n",
    "region_spending_crosstab"
   ]
  },
  {
   "cell_type": "markdown",
   "id": "81434fb2",
   "metadata": {},
   "source": [
    "# Task 4 Create an Exclusion Flag for Low Activity Customers"
   ]
  },
  {
   "cell_type": "code",
   "execution_count": 19,
   "id": "519f780f",
   "metadata": {},
   "outputs": [],
   "source": [
    "# Create keep category for exclusion_flag\n",
    "\n",
    "instacart.loc[instacart['max_order'] >= 5, 'exclusion_flag'] = 'Keep'"
   ]
  },
  {
   "cell_type": "code",
   "execution_count": 20,
   "id": "f46f1cbd",
   "metadata": {},
   "outputs": [],
   "source": [
    "# Create exclude category exclusion_flag\n",
    "\n",
    "instacart.loc[instacart['max_order'] < 5, 'exclusion_flag'] = 'Exclude'"
   ]
  },
  {
   "cell_type": "code",
   "execution_count": 21,
   "id": "265b07b2",
   "metadata": {},
   "outputs": [
    {
     "data": {
      "text/html": [
       "<div>\n",
       "<style scoped>\n",
       "    .dataframe tbody tr th:only-of-type {\n",
       "        vertical-align: middle;\n",
       "    }\n",
       "\n",
       "    .dataframe tbody tr th {\n",
       "        vertical-align: top;\n",
       "    }\n",
       "\n",
       "    .dataframe thead th {\n",
       "        text-align: right;\n",
       "    }\n",
       "</style>\n",
       "<table border=\"1\" class=\"dataframe\">\n",
       "  <thead>\n",
       "    <tr style=\"text-align: right;\">\n",
       "      <th></th>\n",
       "      <th>order_id</th>\n",
       "      <th>user_id</th>\n",
       "      <th>eval_set</th>\n",
       "      <th>order_number</th>\n",
       "      <th>order_dow</th>\n",
       "      <th>order_hour_of_day</th>\n",
       "      <th>days_since_prior_order</th>\n",
       "      <th>product_id</th>\n",
       "      <th>add_to_cart_order</th>\n",
       "      <th>reordered</th>\n",
       "      <th>...</th>\n",
       "      <th>gender</th>\n",
       "      <th>state</th>\n",
       "      <th>age</th>\n",
       "      <th>date_joined</th>\n",
       "      <th>n_dependants</th>\n",
       "      <th>marital_status</th>\n",
       "      <th>income</th>\n",
       "      <th>_merge</th>\n",
       "      <th>Region</th>\n",
       "      <th>exclusion_flag</th>\n",
       "    </tr>\n",
       "  </thead>\n",
       "  <tbody>\n",
       "    <tr>\n",
       "      <th>0</th>\n",
       "      <td>2539329</td>\n",
       "      <td>1</td>\n",
       "      <td>prior</td>\n",
       "      <td>1</td>\n",
       "      <td>2</td>\n",
       "      <td>8</td>\n",
       "      <td>NaN</td>\n",
       "      <td>196</td>\n",
       "      <td>1</td>\n",
       "      <td>0</td>\n",
       "      <td>...</td>\n",
       "      <td>Female</td>\n",
       "      <td>Alabama</td>\n",
       "      <td>31</td>\n",
       "      <td>2/17/2019</td>\n",
       "      <td>3</td>\n",
       "      <td>married</td>\n",
       "      <td>40423</td>\n",
       "      <td>both</td>\n",
       "      <td>South</td>\n",
       "      <td>Keep</td>\n",
       "    </tr>\n",
       "    <tr>\n",
       "      <th>1</th>\n",
       "      <td>2398795</td>\n",
       "      <td>1</td>\n",
       "      <td>prior</td>\n",
       "      <td>2</td>\n",
       "      <td>3</td>\n",
       "      <td>7</td>\n",
       "      <td>15.0</td>\n",
       "      <td>196</td>\n",
       "      <td>1</td>\n",
       "      <td>1</td>\n",
       "      <td>...</td>\n",
       "      <td>Female</td>\n",
       "      <td>Alabama</td>\n",
       "      <td>31</td>\n",
       "      <td>2/17/2019</td>\n",
       "      <td>3</td>\n",
       "      <td>married</td>\n",
       "      <td>40423</td>\n",
       "      <td>both</td>\n",
       "      <td>South</td>\n",
       "      <td>Keep</td>\n",
       "    </tr>\n",
       "    <tr>\n",
       "      <th>2</th>\n",
       "      <td>473747</td>\n",
       "      <td>1</td>\n",
       "      <td>prior</td>\n",
       "      <td>3</td>\n",
       "      <td>3</td>\n",
       "      <td>12</td>\n",
       "      <td>21.0</td>\n",
       "      <td>196</td>\n",
       "      <td>1</td>\n",
       "      <td>1</td>\n",
       "      <td>...</td>\n",
       "      <td>Female</td>\n",
       "      <td>Alabama</td>\n",
       "      <td>31</td>\n",
       "      <td>2/17/2019</td>\n",
       "      <td>3</td>\n",
       "      <td>married</td>\n",
       "      <td>40423</td>\n",
       "      <td>both</td>\n",
       "      <td>South</td>\n",
       "      <td>Keep</td>\n",
       "    </tr>\n",
       "    <tr>\n",
       "      <th>3</th>\n",
       "      <td>2254736</td>\n",
       "      <td>1</td>\n",
       "      <td>prior</td>\n",
       "      <td>4</td>\n",
       "      <td>4</td>\n",
       "      <td>7</td>\n",
       "      <td>29.0</td>\n",
       "      <td>196</td>\n",
       "      <td>1</td>\n",
       "      <td>1</td>\n",
       "      <td>...</td>\n",
       "      <td>Female</td>\n",
       "      <td>Alabama</td>\n",
       "      <td>31</td>\n",
       "      <td>2/17/2019</td>\n",
       "      <td>3</td>\n",
       "      <td>married</td>\n",
       "      <td>40423</td>\n",
       "      <td>both</td>\n",
       "      <td>South</td>\n",
       "      <td>Keep</td>\n",
       "    </tr>\n",
       "    <tr>\n",
       "      <th>4</th>\n",
       "      <td>431534</td>\n",
       "      <td>1</td>\n",
       "      <td>prior</td>\n",
       "      <td>5</td>\n",
       "      <td>4</td>\n",
       "      <td>15</td>\n",
       "      <td>28.0</td>\n",
       "      <td>196</td>\n",
       "      <td>1</td>\n",
       "      <td>1</td>\n",
       "      <td>...</td>\n",
       "      <td>Female</td>\n",
       "      <td>Alabama</td>\n",
       "      <td>31</td>\n",
       "      <td>2/17/2019</td>\n",
       "      <td>3</td>\n",
       "      <td>married</td>\n",
       "      <td>40423</td>\n",
       "      <td>both</td>\n",
       "      <td>South</td>\n",
       "      <td>Keep</td>\n",
       "    </tr>\n",
       "  </tbody>\n",
       "</table>\n",
       "<p>5 rows × 34 columns</p>\n",
       "</div>"
      ],
      "text/plain": [
       "  order_id user_id eval_set  order_number  order_dow  order_hour_of_day  \\\n",
       "0  2539329       1    prior             1          2                  8   \n",
       "1  2398795       1    prior             2          3                  7   \n",
       "2   473747       1    prior             3          3                 12   \n",
       "3  2254736       1    prior             4          4                  7   \n",
       "4   431534       1    prior             5          4                 15   \n",
       "\n",
       "   days_since_prior_order  product_id  add_to_cart_order  reordered  ...  \\\n",
       "0                     NaN         196                  1          0  ...   \n",
       "1                    15.0         196                  1          1  ...   \n",
       "2                    21.0         196                  1          1  ...   \n",
       "3                    29.0         196                  1          1  ...   \n",
       "4                    28.0         196                  1          1  ...   \n",
       "\n",
       "   gender    state  age  date_joined n_dependants marital_status income  \\\n",
       "0  Female  Alabama   31    2/17/2019            3        married  40423   \n",
       "1  Female  Alabama   31    2/17/2019            3        married  40423   \n",
       "2  Female  Alabama   31    2/17/2019            3        married  40423   \n",
       "3  Female  Alabama   31    2/17/2019            3        married  40423   \n",
       "4  Female  Alabama   31    2/17/2019            3        married  40423   \n",
       "\n",
       "  _merge  Region exclusion_flag  \n",
       "0   both   South           Keep  \n",
       "1   both   South           Keep  \n",
       "2   both   South           Keep  \n",
       "3   both   South           Keep  \n",
       "4   both   South           Keep  \n",
       "\n",
       "[5 rows x 34 columns]"
      ]
     },
     "execution_count": 21,
     "metadata": {},
     "output_type": "execute_result"
    }
   ],
   "source": [
    "# Check head for new column\n",
    "\n",
    "instacart.head()"
   ]
  },
  {
   "cell_type": "code",
   "execution_count": 22,
   "id": "02fdb97c",
   "metadata": {},
   "outputs": [
    {
     "data": {
      "text/plain": [
       "exclusion_flag\n",
       "Keep       30964564\n",
       "Exclude     1440295\n",
       "Name: count, dtype: int64"
      ]
     },
     "execution_count": 22,
     "metadata": {},
     "output_type": "execute_result"
    }
   ],
   "source": [
    "# exclusion_flag value counts\n",
    "\n",
    "instacart['exclusion_flag'].value_counts(dropna = False)"
   ]
  },
  {
   "cell_type": "code",
   "execution_count": 23,
   "id": "36bc8d05",
   "metadata": {},
   "outputs": [],
   "source": [
    "# Create subset using only 'Keep' accounts\n",
    "instacart_kept = instacart[instacart['exclusion_flag'] == 'Keep']"
   ]
  },
  {
   "cell_type": "code",
   "execution_count": 24,
   "id": "82f8fb24",
   "metadata": {},
   "outputs": [
    {
     "data": {
      "text/plain": [
       "(30964564, 34)"
      ]
     },
     "execution_count": 24,
     "metadata": {},
     "output_type": "execute_result"
    }
   ],
   "source": [
    "# Check shape of new subset\n",
    "\n",
    "instacart_kept.shape"
   ]
  },
  {
   "cell_type": "markdown",
   "id": "01d41889",
   "metadata": {},
   "source": [
    "# Task 5a - Create Profiling Variables - Parent Status"
   ]
  },
  {
   "cell_type": "code",
   "execution_count": 25,
   "id": "43cf26d4",
   "metadata": {},
   "outputs": [],
   "source": [
    "# Import Department Dataframe to check Department Names\n",
    "\n",
    "df_dep = pd.read_csv(os.path.join(path, 'Data', 'Original Data', 'departments.csv'), index_col = False)"
   ]
  },
  {
   "cell_type": "code",
   "execution_count": 26,
   "id": "3bcb1e3f",
   "metadata": {},
   "outputs": [
    {
     "data": {
      "text/html": [
       "<div>\n",
       "<style scoped>\n",
       "    .dataframe tbody tr th:only-of-type {\n",
       "        vertical-align: middle;\n",
       "    }\n",
       "\n",
       "    .dataframe tbody tr th {\n",
       "        vertical-align: top;\n",
       "    }\n",
       "\n",
       "    .dataframe thead th {\n",
       "        text-align: right;\n",
       "    }\n",
       "</style>\n",
       "<table border=\"1\" class=\"dataframe\">\n",
       "  <thead>\n",
       "    <tr style=\"text-align: right;\">\n",
       "      <th></th>\n",
       "      <th>0</th>\n",
       "    </tr>\n",
       "  </thead>\n",
       "  <tbody>\n",
       "    <tr>\n",
       "      <th>department_id</th>\n",
       "      <td>department</td>\n",
       "    </tr>\n",
       "    <tr>\n",
       "      <th>1</th>\n",
       "      <td>frozen</td>\n",
       "    </tr>\n",
       "    <tr>\n",
       "      <th>2</th>\n",
       "      <td>other</td>\n",
       "    </tr>\n",
       "    <tr>\n",
       "      <th>3</th>\n",
       "      <td>bakery</td>\n",
       "    </tr>\n",
       "    <tr>\n",
       "      <th>4</th>\n",
       "      <td>produce</td>\n",
       "    </tr>\n",
       "    <tr>\n",
       "      <th>5</th>\n",
       "      <td>alcohol</td>\n",
       "    </tr>\n",
       "    <tr>\n",
       "      <th>6</th>\n",
       "      <td>international</td>\n",
       "    </tr>\n",
       "    <tr>\n",
       "      <th>7</th>\n",
       "      <td>beverages</td>\n",
       "    </tr>\n",
       "    <tr>\n",
       "      <th>8</th>\n",
       "      <td>pets</td>\n",
       "    </tr>\n",
       "    <tr>\n",
       "      <th>9</th>\n",
       "      <td>dry goods pasta</td>\n",
       "    </tr>\n",
       "    <tr>\n",
       "      <th>10</th>\n",
       "      <td>bulk</td>\n",
       "    </tr>\n",
       "    <tr>\n",
       "      <th>11</th>\n",
       "      <td>personal care</td>\n",
       "    </tr>\n",
       "    <tr>\n",
       "      <th>12</th>\n",
       "      <td>meat seafood</td>\n",
       "    </tr>\n",
       "    <tr>\n",
       "      <th>13</th>\n",
       "      <td>pantry</td>\n",
       "    </tr>\n",
       "    <tr>\n",
       "      <th>14</th>\n",
       "      <td>breakfast</td>\n",
       "    </tr>\n",
       "    <tr>\n",
       "      <th>15</th>\n",
       "      <td>canned goods</td>\n",
       "    </tr>\n",
       "    <tr>\n",
       "      <th>16</th>\n",
       "      <td>dairy eggs</td>\n",
       "    </tr>\n",
       "    <tr>\n",
       "      <th>17</th>\n",
       "      <td>household</td>\n",
       "    </tr>\n",
       "    <tr>\n",
       "      <th>18</th>\n",
       "      <td>babies</td>\n",
       "    </tr>\n",
       "    <tr>\n",
       "      <th>19</th>\n",
       "      <td>snacks</td>\n",
       "    </tr>\n",
       "    <tr>\n",
       "      <th>20</th>\n",
       "      <td>deli</td>\n",
       "    </tr>\n",
       "    <tr>\n",
       "      <th>21</th>\n",
       "      <td>missing</td>\n",
       "    </tr>\n",
       "  </tbody>\n",
       "</table>\n",
       "</div>"
      ],
      "text/plain": [
       "                             0\n",
       "department_id       department\n",
       "1                       frozen\n",
       "2                        other\n",
       "3                       bakery\n",
       "4                      produce\n",
       "5                      alcohol\n",
       "6                international\n",
       "7                    beverages\n",
       "8                         pets\n",
       "9              dry goods pasta\n",
       "10                        bulk\n",
       "11               personal care\n",
       "12                meat seafood\n",
       "13                      pantry\n",
       "14                   breakfast\n",
       "15                canned goods\n",
       "16                  dairy eggs\n",
       "17                   household\n",
       "18                      babies\n",
       "19                      snacks\n",
       "20                        deli\n",
       "21                     missing"
      ]
     },
     "execution_count": 26,
     "metadata": {},
     "output_type": "execute_result"
    }
   ],
   "source": [
    "# Check department names\n",
    "\n",
    "df_dep.T"
   ]
  },
  {
   "cell_type": "code",
   "execution_count": 27,
   "id": "73b926ce",
   "metadata": {},
   "outputs": [
    {
     "name": "stderr",
     "output_type": "stream",
     "text": [
      "C:\\Users\\cschw\\AppData\\Local\\Temp\\ipykernel_26148\\3668100514.py:3: SettingWithCopyWarning: \n",
      "A value is trying to be set on a copy of a slice from a DataFrame.\n",
      "Try using .loc[row_indexer,col_indexer] = value instead\n",
      "\n",
      "See the caveats in the documentation: https://pandas.pydata.org/pandas-docs/stable/user_guide/indexing.html#returning-a-view-versus-a-copy\n",
      "  instacart_kept['parent'] = 'No'\n"
     ]
    }
   ],
   "source": [
    "# Create parent column and set all values to 'No'\n",
    "\n",
    "instacart_kept['parent'] = 'No'\n"
   ]
  },
  {
   "cell_type": "code",
   "execution_count": 28,
   "id": "498b187b",
   "metadata": {},
   "outputs": [],
   "source": [
    "# Change parent value to 'Yes' when department_id is 18 (babies)\n",
    "\n",
    "instacart_kept.loc[instacart_kept['department_id'] == 18, 'parent'] = 'Yes'"
   ]
  },
  {
   "cell_type": "code",
   "execution_count": 29,
   "id": "7f62264d",
   "metadata": {},
   "outputs": [
    {
     "data": {
      "text/html": [
       "<div>\n",
       "<style scoped>\n",
       "    .dataframe tbody tr th:only-of-type {\n",
       "        vertical-align: middle;\n",
       "    }\n",
       "\n",
       "    .dataframe tbody tr th {\n",
       "        vertical-align: top;\n",
       "    }\n",
       "\n",
       "    .dataframe thead th {\n",
       "        text-align: right;\n",
       "    }\n",
       "</style>\n",
       "<table border=\"1\" class=\"dataframe\">\n",
       "  <thead>\n",
       "    <tr style=\"text-align: right;\">\n",
       "      <th></th>\n",
       "      <th>department_id</th>\n",
       "      <th>parent</th>\n",
       "    </tr>\n",
       "  </thead>\n",
       "  <tbody>\n",
       "    <tr>\n",
       "      <th>0</th>\n",
       "      <td>7</td>\n",
       "      <td>No</td>\n",
       "    </tr>\n",
       "    <tr>\n",
       "      <th>1</th>\n",
       "      <td>7</td>\n",
       "      <td>No</td>\n",
       "    </tr>\n",
       "    <tr>\n",
       "      <th>2</th>\n",
       "      <td>7</td>\n",
       "      <td>No</td>\n",
       "    </tr>\n",
       "    <tr>\n",
       "      <th>3</th>\n",
       "      <td>7</td>\n",
       "      <td>No</td>\n",
       "    </tr>\n",
       "    <tr>\n",
       "      <th>4</th>\n",
       "      <td>7</td>\n",
       "      <td>No</td>\n",
       "    </tr>\n",
       "    <tr>\n",
       "      <th>...</th>\n",
       "      <td>...</td>\n",
       "      <td>...</td>\n",
       "    </tr>\n",
       "    <tr>\n",
       "      <th>32404850</th>\n",
       "      <td>7</td>\n",
       "      <td>No</td>\n",
       "    </tr>\n",
       "    <tr>\n",
       "      <th>32404851</th>\n",
       "      <td>7</td>\n",
       "      <td>No</td>\n",
       "    </tr>\n",
       "    <tr>\n",
       "      <th>32404852</th>\n",
       "      <td>7</td>\n",
       "      <td>No</td>\n",
       "    </tr>\n",
       "    <tr>\n",
       "      <th>32404853</th>\n",
       "      <td>7</td>\n",
       "      <td>No</td>\n",
       "    </tr>\n",
       "    <tr>\n",
       "      <th>32404854</th>\n",
       "      <td>7</td>\n",
       "      <td>No</td>\n",
       "    </tr>\n",
       "  </tbody>\n",
       "</table>\n",
       "<p>30964564 rows × 2 columns</p>\n",
       "</div>"
      ],
      "text/plain": [
       "          department_id parent\n",
       "0                     7     No\n",
       "1                     7     No\n",
       "2                     7     No\n",
       "3                     7     No\n",
       "4                     7     No\n",
       "...                 ...    ...\n",
       "32404850              7     No\n",
       "32404851              7     No\n",
       "32404852              7     No\n",
       "32404853              7     No\n",
       "32404854              7     No\n",
       "\n",
       "[30964564 rows x 2 columns]"
      ]
     },
     "execution_count": 29,
     "metadata": {},
     "output_type": "execute_result"
    }
   ],
   "source": [
    "# Check head for new column\n",
    "\n",
    "instacart_kept[['department_id', 'parent']]"
   ]
  },
  {
   "cell_type": "code",
   "execution_count": 30,
   "id": "60c0d2b7",
   "metadata": {},
   "outputs": [],
   "source": [
    "# Create crosstab to verify new parent column\n",
    "\n",
    "parent_crosstab = pd.crosstab(instacart_kept['department_id'], instacart_kept['parent'], dropna = False)"
   ]
  },
  {
   "cell_type": "code",
   "execution_count": 31,
   "id": "8bb4e520",
   "metadata": {},
   "outputs": [
    {
     "data": {
      "text/html": [
       "<div>\n",
       "<style scoped>\n",
       "    .dataframe tbody tr th:only-of-type {\n",
       "        vertical-align: middle;\n",
       "    }\n",
       "\n",
       "    .dataframe tbody tr th {\n",
       "        vertical-align: top;\n",
       "    }\n",
       "\n",
       "    .dataframe thead th {\n",
       "        text-align: right;\n",
       "    }\n",
       "</style>\n",
       "<table border=\"1\" class=\"dataframe\">\n",
       "  <thead>\n",
       "    <tr style=\"text-align: right;\">\n",
       "      <th>parent</th>\n",
       "      <th>No</th>\n",
       "      <th>Yes</th>\n",
       "    </tr>\n",
       "    <tr>\n",
       "      <th>department_id</th>\n",
       "      <th></th>\n",
       "      <th></th>\n",
       "    </tr>\n",
       "  </thead>\n",
       "  <tbody>\n",
       "    <tr>\n",
       "      <th>1</th>\n",
       "      <td>2121731</td>\n",
       "      <td>0</td>\n",
       "    </tr>\n",
       "    <tr>\n",
       "      <th>2</th>\n",
       "      <td>34411</td>\n",
       "      <td>0</td>\n",
       "    </tr>\n",
       "    <tr>\n",
       "      <th>3</th>\n",
       "      <td>1120828</td>\n",
       "      <td>0</td>\n",
       "    </tr>\n",
       "    <tr>\n",
       "      <th>4</th>\n",
       "      <td>9079273</td>\n",
       "      <td>0</td>\n",
       "    </tr>\n",
       "    <tr>\n",
       "      <th>5</th>\n",
       "      <td>144627</td>\n",
       "      <td>0</td>\n",
       "    </tr>\n",
       "    <tr>\n",
       "      <th>6</th>\n",
       "      <td>255991</td>\n",
       "      <td>0</td>\n",
       "    </tr>\n",
       "    <tr>\n",
       "      <th>7</th>\n",
       "      <td>2571901</td>\n",
       "      <td>0</td>\n",
       "    </tr>\n",
       "    <tr>\n",
       "      <th>8</th>\n",
       "      <td>93060</td>\n",
       "      <td>0</td>\n",
       "    </tr>\n",
       "    <tr>\n",
       "      <th>9</th>\n",
       "      <td>822136</td>\n",
       "      <td>0</td>\n",
       "    </tr>\n",
       "    <tr>\n",
       "      <th>10</th>\n",
       "      <td>33451</td>\n",
       "      <td>0</td>\n",
       "    </tr>\n",
       "    <tr>\n",
       "      <th>11</th>\n",
       "      <td>424306</td>\n",
       "      <td>0</td>\n",
       "    </tr>\n",
       "    <tr>\n",
       "      <th>12</th>\n",
       "      <td>674781</td>\n",
       "      <td>0</td>\n",
       "    </tr>\n",
       "    <tr>\n",
       "      <th>13</th>\n",
       "      <td>1782705</td>\n",
       "      <td>0</td>\n",
       "    </tr>\n",
       "    <tr>\n",
       "      <th>14</th>\n",
       "      <td>670850</td>\n",
       "      <td>0</td>\n",
       "    </tr>\n",
       "    <tr>\n",
       "      <th>15</th>\n",
       "      <td>1012074</td>\n",
       "      <td>0</td>\n",
       "    </tr>\n",
       "    <tr>\n",
       "      <th>16</th>\n",
       "      <td>5177182</td>\n",
       "      <td>0</td>\n",
       "    </tr>\n",
       "    <tr>\n",
       "      <th>17</th>\n",
       "      <td>699857</td>\n",
       "      <td>0</td>\n",
       "    </tr>\n",
       "    <tr>\n",
       "      <th>18</th>\n",
       "      <td>0</td>\n",
       "      <td>410392</td>\n",
       "    </tr>\n",
       "    <tr>\n",
       "      <th>19</th>\n",
       "      <td>2766406</td>\n",
       "      <td>0</td>\n",
       "    </tr>\n",
       "    <tr>\n",
       "      <th>20</th>\n",
       "      <td>1003834</td>\n",
       "      <td>0</td>\n",
       "    </tr>\n",
       "    <tr>\n",
       "      <th>21</th>\n",
       "      <td>64768</td>\n",
       "      <td>0</td>\n",
       "    </tr>\n",
       "  </tbody>\n",
       "</table>\n",
       "</div>"
      ],
      "text/plain": [
       "parent              No     Yes\n",
       "department_id                 \n",
       "1              2121731       0\n",
       "2                34411       0\n",
       "3              1120828       0\n",
       "4              9079273       0\n",
       "5               144627       0\n",
       "6               255991       0\n",
       "7              2571901       0\n",
       "8                93060       0\n",
       "9               822136       0\n",
       "10               33451       0\n",
       "11              424306       0\n",
       "12              674781       0\n",
       "13             1782705       0\n",
       "14              670850       0\n",
       "15             1012074       0\n",
       "16             5177182       0\n",
       "17              699857       0\n",
       "18                   0  410392\n",
       "19             2766406       0\n",
       "20             1003834       0\n",
       "21               64768       0"
      ]
     },
     "execution_count": 31,
     "metadata": {},
     "output_type": "execute_result"
    }
   ],
   "source": [
    "# Display parent crosstab\n",
    "\n",
    "parent_crosstab"
   ]
  },
  {
   "cell_type": "code",
   "execution_count": 32,
   "id": "11fdf5ac",
   "metadata": {},
   "outputs": [
    {
     "name": "stderr",
     "output_type": "stream",
     "text": [
      "C:\\Users\\cschw\\AppData\\Local\\Temp\\ipykernel_26148\\937316488.py:3: SettingWithCopyWarning: \n",
      "A value is trying to be set on a copy of a slice from a DataFrame.\n",
      "Try using .loc[row_indexer,col_indexer] = value instead\n",
      "\n",
      "See the caveats in the documentation: https://pandas.pydata.org/pandas-docs/stable/user_guide/indexing.html#returning-a-view-versus-a-copy\n",
      "  instacart_kept['single_parent'] = 'No'\n"
     ]
    }
   ],
   "source": [
    "# Create single_parent column with default value 'No'\n",
    "\n",
    "instacart_kept['single_parent'] = 'No'"
   ]
  },
  {
   "cell_type": "code",
   "execution_count": 33,
   "id": "48d6c411",
   "metadata": {},
   "outputs": [],
   "source": [
    "# Insert 'Yes' value for single_parent column where babies = 'yes' and marital status = 'single'\n",
    "\n",
    "instacart_kept.loc[(instacart_kept['parent'] == 'Yes') & (instacart_kept['marital_status'] == 'single'), 'single_parent'] = 'Yes'"
   ]
  },
  {
   "cell_type": "code",
   "execution_count": 34,
   "id": "216ec58e",
   "metadata": {},
   "outputs": [
    {
     "data": {
      "text/plain": [
       "single_parent\n",
       "No     30895587\n",
       "Yes       68977\n",
       "Name: count, dtype: int64"
      ]
     },
     "execution_count": 34,
     "metadata": {},
     "output_type": "execute_result"
    }
   ],
   "source": [
    "# Check value counts of single_parent flag\n",
    "\n",
    "instacart_kept['single_parent'].value_counts()"
   ]
  },
  {
   "cell_type": "code",
   "execution_count": 35,
   "id": "d4269654",
   "metadata": {},
   "outputs": [
    {
     "data": {
      "text/html": [
       "<div>\n",
       "<style scoped>\n",
       "    .dataframe tbody tr th:only-of-type {\n",
       "        vertical-align: middle;\n",
       "    }\n",
       "\n",
       "    .dataframe tbody tr th {\n",
       "        vertical-align: top;\n",
       "    }\n",
       "\n",
       "    .dataframe thead th {\n",
       "        text-align: right;\n",
       "    }\n",
       "</style>\n",
       "<table border=\"1\" class=\"dataframe\">\n",
       "  <thead>\n",
       "    <tr style=\"text-align: right;\">\n",
       "      <th></th>\n",
       "      <th>order_id</th>\n",
       "      <th>user_id</th>\n",
       "      <th>eval_set</th>\n",
       "      <th>order_number</th>\n",
       "      <th>order_dow</th>\n",
       "      <th>order_hour_of_day</th>\n",
       "      <th>days_since_prior_order</th>\n",
       "      <th>product_id</th>\n",
       "      <th>add_to_cart_order</th>\n",
       "      <th>reordered</th>\n",
       "      <th>...</th>\n",
       "      <th>age</th>\n",
       "      <th>date_joined</th>\n",
       "      <th>n_dependants</th>\n",
       "      <th>marital_status</th>\n",
       "      <th>income</th>\n",
       "      <th>_merge</th>\n",
       "      <th>Region</th>\n",
       "      <th>exclusion_flag</th>\n",
       "      <th>parent</th>\n",
       "      <th>single_parent</th>\n",
       "    </tr>\n",
       "  </thead>\n",
       "  <tbody>\n",
       "    <tr>\n",
       "      <th>0</th>\n",
       "      <td>2539329</td>\n",
       "      <td>1</td>\n",
       "      <td>prior</td>\n",
       "      <td>1</td>\n",
       "      <td>2</td>\n",
       "      <td>8</td>\n",
       "      <td>NaN</td>\n",
       "      <td>196</td>\n",
       "      <td>1</td>\n",
       "      <td>0</td>\n",
       "      <td>...</td>\n",
       "      <td>31</td>\n",
       "      <td>2/17/2019</td>\n",
       "      <td>3</td>\n",
       "      <td>married</td>\n",
       "      <td>40423</td>\n",
       "      <td>both</td>\n",
       "      <td>South</td>\n",
       "      <td>Keep</td>\n",
       "      <td>No</td>\n",
       "      <td>No</td>\n",
       "    </tr>\n",
       "    <tr>\n",
       "      <th>1</th>\n",
       "      <td>2398795</td>\n",
       "      <td>1</td>\n",
       "      <td>prior</td>\n",
       "      <td>2</td>\n",
       "      <td>3</td>\n",
       "      <td>7</td>\n",
       "      <td>15.0</td>\n",
       "      <td>196</td>\n",
       "      <td>1</td>\n",
       "      <td>1</td>\n",
       "      <td>...</td>\n",
       "      <td>31</td>\n",
       "      <td>2/17/2019</td>\n",
       "      <td>3</td>\n",
       "      <td>married</td>\n",
       "      <td>40423</td>\n",
       "      <td>both</td>\n",
       "      <td>South</td>\n",
       "      <td>Keep</td>\n",
       "      <td>No</td>\n",
       "      <td>No</td>\n",
       "    </tr>\n",
       "    <tr>\n",
       "      <th>2</th>\n",
       "      <td>473747</td>\n",
       "      <td>1</td>\n",
       "      <td>prior</td>\n",
       "      <td>3</td>\n",
       "      <td>3</td>\n",
       "      <td>12</td>\n",
       "      <td>21.0</td>\n",
       "      <td>196</td>\n",
       "      <td>1</td>\n",
       "      <td>1</td>\n",
       "      <td>...</td>\n",
       "      <td>31</td>\n",
       "      <td>2/17/2019</td>\n",
       "      <td>3</td>\n",
       "      <td>married</td>\n",
       "      <td>40423</td>\n",
       "      <td>both</td>\n",
       "      <td>South</td>\n",
       "      <td>Keep</td>\n",
       "      <td>No</td>\n",
       "      <td>No</td>\n",
       "    </tr>\n",
       "    <tr>\n",
       "      <th>3</th>\n",
       "      <td>2254736</td>\n",
       "      <td>1</td>\n",
       "      <td>prior</td>\n",
       "      <td>4</td>\n",
       "      <td>4</td>\n",
       "      <td>7</td>\n",
       "      <td>29.0</td>\n",
       "      <td>196</td>\n",
       "      <td>1</td>\n",
       "      <td>1</td>\n",
       "      <td>...</td>\n",
       "      <td>31</td>\n",
       "      <td>2/17/2019</td>\n",
       "      <td>3</td>\n",
       "      <td>married</td>\n",
       "      <td>40423</td>\n",
       "      <td>both</td>\n",
       "      <td>South</td>\n",
       "      <td>Keep</td>\n",
       "      <td>No</td>\n",
       "      <td>No</td>\n",
       "    </tr>\n",
       "    <tr>\n",
       "      <th>4</th>\n",
       "      <td>431534</td>\n",
       "      <td>1</td>\n",
       "      <td>prior</td>\n",
       "      <td>5</td>\n",
       "      <td>4</td>\n",
       "      <td>15</td>\n",
       "      <td>28.0</td>\n",
       "      <td>196</td>\n",
       "      <td>1</td>\n",
       "      <td>1</td>\n",
       "      <td>...</td>\n",
       "      <td>31</td>\n",
       "      <td>2/17/2019</td>\n",
       "      <td>3</td>\n",
       "      <td>married</td>\n",
       "      <td>40423</td>\n",
       "      <td>both</td>\n",
       "      <td>South</td>\n",
       "      <td>Keep</td>\n",
       "      <td>No</td>\n",
       "      <td>No</td>\n",
       "    </tr>\n",
       "  </tbody>\n",
       "</table>\n",
       "<p>5 rows × 36 columns</p>\n",
       "</div>"
      ],
      "text/plain": [
       "  order_id user_id eval_set  order_number  order_dow  order_hour_of_day  \\\n",
       "0  2539329       1    prior             1          2                  8   \n",
       "1  2398795       1    prior             2          3                  7   \n",
       "2   473747       1    prior             3          3                 12   \n",
       "3  2254736       1    prior             4          4                  7   \n",
       "4   431534       1    prior             5          4                 15   \n",
       "\n",
       "   days_since_prior_order  product_id  add_to_cart_order  reordered  ... age  \\\n",
       "0                     NaN         196                  1          0  ...  31   \n",
       "1                    15.0         196                  1          1  ...  31   \n",
       "2                    21.0         196                  1          1  ...  31   \n",
       "3                    29.0         196                  1          1  ...  31   \n",
       "4                    28.0         196                  1          1  ...  31   \n",
       "\n",
       "   date_joined  n_dependants  marital_status income _merge Region  \\\n",
       "0    2/17/2019             3         married  40423   both  South   \n",
       "1    2/17/2019             3         married  40423   both  South   \n",
       "2    2/17/2019             3         married  40423   both  South   \n",
       "3    2/17/2019             3         married  40423   both  South   \n",
       "4    2/17/2019             3         married  40423   both  South   \n",
       "\n",
       "  exclusion_flag  parent single_parent  \n",
       "0           Keep      No            No  \n",
       "1           Keep      No            No  \n",
       "2           Keep      No            No  \n",
       "3           Keep      No            No  \n",
       "4           Keep      No            No  \n",
       "\n",
       "[5 rows x 36 columns]"
      ]
     },
     "execution_count": 35,
     "metadata": {},
     "output_type": "execute_result"
    }
   ],
   "source": [
    "instacart_kept.head()"
   ]
  },
  {
   "cell_type": "markdown",
   "id": "e9b84919",
   "metadata": {},
   "source": [
    "# Task 5b - Create Profiling Variables - Age Groups"
   ]
  },
  {
   "cell_type": "markdown",
   "id": "97e6a4ad",
   "metadata": {},
   "source": [
    "I created the categories for age groups somewhat arbitrarily based on my own estimations of the categories 'young adult', 'adult' and 'senior' - if this analysis was done for a real company and not educational purposes, I would ask the appropriate person if there are specific designations for age groups to follow. "
   ]
  },
  {
   "cell_type": "code",
   "execution_count": 36,
   "id": "38b4d5ce",
   "metadata": {},
   "outputs": [],
   "source": [
    "# Check min age of dataframe\n",
    "\n",
    "min_age = instacart_kept['age'].min()"
   ]
  },
  {
   "cell_type": "code",
   "execution_count": 37,
   "id": "915f4c8e",
   "metadata": {},
   "outputs": [
    {
     "data": {
      "text/plain": [
       "18"
      ]
     },
     "execution_count": 37,
     "metadata": {},
     "output_type": "execute_result"
    }
   ],
   "source": [
    "min_age"
   ]
  },
  {
   "cell_type": "code",
   "execution_count": 38,
   "id": "897d308a",
   "metadata": {},
   "outputs": [],
   "source": [
    "# Check max age of dataframe\n",
    "\n",
    "max_age = instacart_kept['age'].max()"
   ]
  },
  {
   "cell_type": "code",
   "execution_count": 39,
   "id": "d3b8c5c0",
   "metadata": {},
   "outputs": [
    {
     "data": {
      "text/plain": [
       "81"
      ]
     },
     "execution_count": 39,
     "metadata": {},
     "output_type": "execute_result"
    }
   ],
   "source": [
    "max_age"
   ]
  },
  {
   "cell_type": "code",
   "execution_count": 40,
   "id": "87110901",
   "metadata": {},
   "outputs": [
    {
     "name": "stderr",
     "output_type": "stream",
     "text": [
      "C:\\Users\\cschw\\AppData\\Local\\Temp\\ipykernel_26148\\1294997729.py:3: SettingWithCopyWarning: \n",
      "A value is trying to be set on a copy of a slice from a DataFrame.\n",
      "Try using .loc[row_indexer,col_indexer] = value instead\n",
      "\n",
      "See the caveats in the documentation: https://pandas.pydata.org/pandas-docs/stable/user_guide/indexing.html#returning-a-view-versus-a-copy\n",
      "  instacart_kept.loc[instacart_kept['age'] <= 29, 'age_group'] = 'Young Adult'\n"
     ]
    }
   ],
   "source": [
    "# Create 'age_group' column and set all ages 29 or less to 'young adult'\n",
    "\n",
    "instacart_kept.loc[instacart_kept['age'] <= 29, 'age_group'] = 'Young Adult'"
   ]
  },
  {
   "cell_type": "code",
   "execution_count": 41,
   "id": "e90bd105",
   "metadata": {},
   "outputs": [],
   "source": [
    "# Create 'adult' age group for ages 30-65\n",
    "\n",
    "instacart_kept.loc[(instacart_kept['age'] > 29) & \n",
    "                    (instacart_kept['age'] < 65), 'age_group'] = 'Adult'"
   ]
  },
  {
   "cell_type": "code",
   "execution_count": 42,
   "id": "0460f370",
   "metadata": {},
   "outputs": [],
   "source": [
    "# Create 'senior' age group for ages 65+\n",
    "\n",
    "instacart_kept.loc[instacart_kept['age'] >= 65, 'age_group'] = 'Senior'"
   ]
  },
  {
   "cell_type": "code",
   "execution_count": 43,
   "id": "7df26edc",
   "metadata": {},
   "outputs": [
    {
     "data": {
      "text/plain": [
       "age_group\n",
       "Adult          16951417\n",
       "Senior          8195544\n",
       "Young Adult     5817603\n",
       "Name: count, dtype: int64"
      ]
     },
     "execution_count": 43,
     "metadata": {},
     "output_type": "execute_result"
    }
   ],
   "source": [
    "instacart_kept['age_group'].value_counts()"
   ]
  },
  {
   "cell_type": "markdown",
   "id": "d56aae91",
   "metadata": {},
   "source": [
    "# Task 5c - Create Profiling Variables - Income"
   ]
  },
  {
   "cell_type": "markdown",
   "id": "0d179bd6",
   "metadata": {},
   "source": [
    "I created the three income brackets based on data from the world economic forum. Incomes will be categorized as 'low', 'mid' and 'high' based on this source:\n",
    "\n",
    "https://www.weforum.org/agenda/2022/07/household-income-distribution-wealth-inequality-united-states/"
   ]
  },
  {
   "cell_type": "code",
   "execution_count": 44,
   "id": "056a0ca8",
   "metadata": {},
   "outputs": [
    {
     "name": "stderr",
     "output_type": "stream",
     "text": [
      "C:\\Users\\cschw\\AppData\\Local\\Temp\\ipykernel_26148\\726145688.py:3: SettingWithCopyWarning: \n",
      "A value is trying to be set on a copy of a slice from a DataFrame.\n",
      "Try using .loc[row_indexer,col_indexer] = value instead\n",
      "\n",
      "See the caveats in the documentation: https://pandas.pydata.org/pandas-docs/stable/user_guide/indexing.html#returning-a-view-versus-a-copy\n",
      "  instacart_kept.loc[instacart_kept['income'] < 52000, 'income_group'] = 'Low'\n"
     ]
    }
   ],
   "source": [
    "# Create income_group column and set income < 52,000 to low\n",
    "\n",
    "instacart_kept.loc[instacart_kept['income'] < 52000, 'income_group'] = 'Low'\n"
   ]
  },
  {
   "cell_type": "code",
   "execution_count": 45,
   "id": "d1934351",
   "metadata": {},
   "outputs": [],
   "source": [
    "# Create middle income group\n",
    "\n",
    "instacart_kept.loc[(instacart_kept['income'] >= 52000) & \n",
    "                    (instacart_kept['income'] <= 156000), 'income_group'] = 'Middle'"
   ]
  },
  {
   "cell_type": "code",
   "execution_count": 46,
   "id": "49539042",
   "metadata": {},
   "outputs": [],
   "source": [
    "# Create high income group\n",
    "\n",
    "instacart_kept.loc[instacart_kept['income'] > 156000, 'income_group'] = 'High'"
   ]
  },
  {
   "cell_type": "code",
   "execution_count": 47,
   "id": "4b44aba9",
   "metadata": {},
   "outputs": [
    {
     "data": {
      "text/plain": [
       "income_group\n",
       "Middle    24490126\n",
       "Low        3632792\n",
       "High       2841646\n",
       "Name: count, dtype: int64"
      ]
     },
     "execution_count": 47,
     "metadata": {},
     "output_type": "execute_result"
    }
   ],
   "source": [
    "# Check value counts for income_group\n",
    "\n",
    "instacart_kept['income_group'].value_counts(dropna = False)"
   ]
  },
  {
   "cell_type": "markdown",
   "id": "9b66cf14",
   "metadata": {},
   "source": [
    "# Task 5d - Create Profiling Variables - Dependents"
   ]
  },
  {
   "cell_type": "code",
   "execution_count": 48,
   "id": "df18a0ab",
   "metadata": {},
   "outputs": [
    {
     "name": "stderr",
     "output_type": "stream",
     "text": [
      "C:\\Users\\cschw\\AppData\\Local\\Temp\\ipykernel_26148\\2856942582.py:1: SettingWithCopyWarning: \n",
      "A value is trying to be set on a copy of a slice from a DataFrame.\n",
      "Try using .loc[row_indexer,col_indexer] = value instead\n",
      "\n",
      "See the caveats in the documentation: https://pandas.pydata.org/pandas-docs/stable/user_guide/indexing.html#returning-a-view-versus-a-copy\n",
      "  instacart_kept.loc[instacart_kept['n_dependants'] == 0, 'dependants_flag'] = 'No Dependants'\n"
     ]
    }
   ],
   "source": [
    "instacart_kept.loc[instacart_kept['n_dependants'] == 0, 'dependants_flag'] = 'No Dependants'"
   ]
  },
  {
   "cell_type": "code",
   "execution_count": 49,
   "id": "31345a67",
   "metadata": {},
   "outputs": [],
   "source": [
    "instacart_kept.loc[instacart_kept['n_dependants'] > 0, 'dependants_flag'] = 'Has Dependants'"
   ]
  },
  {
   "cell_type": "code",
   "execution_count": 50,
   "id": "5ffe8041",
   "metadata": {},
   "outputs": [
    {
     "data": {
      "text/plain": [
       "dependants_flag\n",
       "Has Dependants    23224883\n",
       "No Dependants      7739681\n",
       "Name: count, dtype: int64"
      ]
     },
     "execution_count": 50,
     "metadata": {},
     "output_type": "execute_result"
    }
   ],
   "source": [
    "instacart_kept['dependants_flag'].value_counts(dropna = False)"
   ]
  },
  {
   "cell_type": "markdown",
   "id": "d7d1c99e",
   "metadata": {},
   "source": [
    "# Task 6a - Create Visualizations - Age Groups\n"
   ]
  },
  {
   "cell_type": "code",
   "execution_count": 51,
   "id": "12ecd843",
   "metadata": {},
   "outputs": [],
   "source": [
    "# Create subset with only relevant columns and unique user_id\n",
    "\n",
    "instacart_sample = instacart_kept [['user_id', 'age_group', 'income_group', 'dependants_flag', 'single_parent', 'loyalty_flag', 'spending_flag', 'order_frequency', 'Region']]"
   ]
  },
  {
   "cell_type": "code",
   "execution_count": 52,
   "id": "e7d164de",
   "metadata": {},
   "outputs": [
    {
     "data": {
      "text/html": [
       "<div>\n",
       "<style scoped>\n",
       "    .dataframe tbody tr th:only-of-type {\n",
       "        vertical-align: middle;\n",
       "    }\n",
       "\n",
       "    .dataframe tbody tr th {\n",
       "        vertical-align: top;\n",
       "    }\n",
       "\n",
       "    .dataframe thead th {\n",
       "        text-align: right;\n",
       "    }\n",
       "</style>\n",
       "<table border=\"1\" class=\"dataframe\">\n",
       "  <thead>\n",
       "    <tr style=\"text-align: right;\">\n",
       "      <th></th>\n",
       "      <th>user_id</th>\n",
       "      <th>age_group</th>\n",
       "      <th>income_group</th>\n",
       "      <th>dependants_flag</th>\n",
       "      <th>single_parent</th>\n",
       "      <th>loyalty_flag</th>\n",
       "      <th>spending_flag</th>\n",
       "      <th>order_frequency</th>\n",
       "      <th>Region</th>\n",
       "    </tr>\n",
       "  </thead>\n",
       "  <tbody>\n",
       "    <tr>\n",
       "      <th>0</th>\n",
       "      <td>1</td>\n",
       "      <td>Adult</td>\n",
       "      <td>Low</td>\n",
       "      <td>Has Dependants</td>\n",
       "      <td>No</td>\n",
       "      <td>New customer</td>\n",
       "      <td>Low Spender</td>\n",
       "      <td>Non-frequent customer</td>\n",
       "      <td>South</td>\n",
       "    </tr>\n",
       "    <tr>\n",
       "      <th>1</th>\n",
       "      <td>1</td>\n",
       "      <td>Adult</td>\n",
       "      <td>Low</td>\n",
       "      <td>Has Dependants</td>\n",
       "      <td>No</td>\n",
       "      <td>New customer</td>\n",
       "      <td>Low Spender</td>\n",
       "      <td>Non-frequent customer</td>\n",
       "      <td>South</td>\n",
       "    </tr>\n",
       "    <tr>\n",
       "      <th>2</th>\n",
       "      <td>1</td>\n",
       "      <td>Adult</td>\n",
       "      <td>Low</td>\n",
       "      <td>Has Dependants</td>\n",
       "      <td>No</td>\n",
       "      <td>New customer</td>\n",
       "      <td>Low Spender</td>\n",
       "      <td>Non-frequent customer</td>\n",
       "      <td>South</td>\n",
       "    </tr>\n",
       "    <tr>\n",
       "      <th>3</th>\n",
       "      <td>1</td>\n",
       "      <td>Adult</td>\n",
       "      <td>Low</td>\n",
       "      <td>Has Dependants</td>\n",
       "      <td>No</td>\n",
       "      <td>New customer</td>\n",
       "      <td>Low Spender</td>\n",
       "      <td>Non-frequent customer</td>\n",
       "      <td>South</td>\n",
       "    </tr>\n",
       "    <tr>\n",
       "      <th>4</th>\n",
       "      <td>1</td>\n",
       "      <td>Adult</td>\n",
       "      <td>Low</td>\n",
       "      <td>Has Dependants</td>\n",
       "      <td>No</td>\n",
       "      <td>New customer</td>\n",
       "      <td>Low Spender</td>\n",
       "      <td>Non-frequent customer</td>\n",
       "      <td>South</td>\n",
       "    </tr>\n",
       "  </tbody>\n",
       "</table>\n",
       "</div>"
      ],
      "text/plain": [
       "  user_id age_group income_group dependants_flag single_parent  loyalty_flag  \\\n",
       "0       1     Adult          Low  Has Dependants            No  New customer   \n",
       "1       1     Adult          Low  Has Dependants            No  New customer   \n",
       "2       1     Adult          Low  Has Dependants            No  New customer   \n",
       "3       1     Adult          Low  Has Dependants            No  New customer   \n",
       "4       1     Adult          Low  Has Dependants            No  New customer   \n",
       "\n",
       "  spending_flag        order_frequency Region  \n",
       "0   Low Spender  Non-frequent customer  South  \n",
       "1   Low Spender  Non-frequent customer  South  \n",
       "2   Low Spender  Non-frequent customer  South  \n",
       "3   Low Spender  Non-frequent customer  South  \n",
       "4   Low Spender  Non-frequent customer  South  "
      ]
     },
     "execution_count": 52,
     "metadata": {},
     "output_type": "execute_result"
    }
   ],
   "source": [
    "# Check head of subset\n",
    "\n",
    "instacart_sample.head()"
   ]
  },
  {
   "cell_type": "code",
   "execution_count": 53,
   "id": "3c610aba",
   "metadata": {},
   "outputs": [],
   "source": [
    "# Drop duplicates in sample to obtain unique user profiles\n",
    "\n",
    "instacart_sample = instacart_sample.drop_duplicates()"
   ]
  },
  {
   "cell_type": "code",
   "execution_count": 54,
   "id": "aa2e26d4",
   "metadata": {},
   "outputs": [
    {
     "data": {
      "text/plain": [
       "(167586, 9)"
      ]
     },
     "execution_count": 54,
     "metadata": {},
     "output_type": "execute_result"
    }
   ],
   "source": [
    "# Check shape\n",
    "\n",
    "instacart_sample.shape"
   ]
  },
  {
   "cell_type": "code",
   "execution_count": 55,
   "id": "de92e460",
   "metadata": {},
   "outputs": [
    {
     "data": {
      "text/html": [
       "<div>\n",
       "<style scoped>\n",
       "    .dataframe tbody tr th:only-of-type {\n",
       "        vertical-align: middle;\n",
       "    }\n",
       "\n",
       "    .dataframe tbody tr th {\n",
       "        vertical-align: top;\n",
       "    }\n",
       "\n",
       "    .dataframe thead th {\n",
       "        text-align: right;\n",
       "    }\n",
       "</style>\n",
       "<table border=\"1\" class=\"dataframe\">\n",
       "  <thead>\n",
       "    <tr style=\"text-align: right;\">\n",
       "      <th></th>\n",
       "      <th>user_id</th>\n",
       "      <th>age_group</th>\n",
       "      <th>income_group</th>\n",
       "      <th>dependants_flag</th>\n",
       "      <th>single_parent</th>\n",
       "      <th>loyalty_flag</th>\n",
       "      <th>spending_flag</th>\n",
       "      <th>order_frequency</th>\n",
       "      <th>Region</th>\n",
       "    </tr>\n",
       "  </thead>\n",
       "  <tbody>\n",
       "    <tr>\n",
       "      <th>0</th>\n",
       "      <td>1</td>\n",
       "      <td>Adult</td>\n",
       "      <td>Low</td>\n",
       "      <td>Has Dependants</td>\n",
       "      <td>No</td>\n",
       "      <td>New customer</td>\n",
       "      <td>Low Spender</td>\n",
       "      <td>Non-frequent customer</td>\n",
       "      <td>South</td>\n",
       "    </tr>\n",
       "    <tr>\n",
       "      <th>59</th>\n",
       "      <td>15</td>\n",
       "      <td>Senior</td>\n",
       "      <td>Middle</td>\n",
       "      <td>No Dependants</td>\n",
       "      <td>No</td>\n",
       "      <td>Regular customer</td>\n",
       "      <td>Low Spender</td>\n",
       "      <td>Frequent customer</td>\n",
       "      <td>Midwest</td>\n",
       "    </tr>\n",
       "    <tr>\n",
       "      <th>131</th>\n",
       "      <td>19</td>\n",
       "      <td>Adult</td>\n",
       "      <td>Middle</td>\n",
       "      <td>Has Dependants</td>\n",
       "      <td>No</td>\n",
       "      <td>New customer</td>\n",
       "      <td>Low Spender</td>\n",
       "      <td>Frequent customer</td>\n",
       "      <td>South</td>\n",
       "    </tr>\n",
       "    <tr>\n",
       "      <th>335</th>\n",
       "      <td>21</td>\n",
       "      <td>Senior</td>\n",
       "      <td>Middle</td>\n",
       "      <td>No Dependants</td>\n",
       "      <td>No</td>\n",
       "      <td>Regular customer</td>\n",
       "      <td>Low Spender</td>\n",
       "      <td>Frequent customer</td>\n",
       "      <td>West</td>\n",
       "    </tr>\n",
       "    <tr>\n",
       "      <th>540</th>\n",
       "      <td>31</td>\n",
       "      <td>Adult</td>\n",
       "      <td>Middle</td>\n",
       "      <td>Has Dependants</td>\n",
       "      <td>No</td>\n",
       "      <td>Regular customer</td>\n",
       "      <td>Low Spender</td>\n",
       "      <td>Frequent customer</td>\n",
       "      <td>South</td>\n",
       "    </tr>\n",
       "    <tr>\n",
       "      <th>...</th>\n",
       "      <td>...</td>\n",
       "      <td>...</td>\n",
       "      <td>...</td>\n",
       "      <td>...</td>\n",
       "      <td>...</td>\n",
       "      <td>...</td>\n",
       "      <td>...</td>\n",
       "      <td>...</td>\n",
       "      <td>...</td>\n",
       "    </tr>\n",
       "    <tr>\n",
       "      <th>32404782</th>\n",
       "      <td>178074</td>\n",
       "      <td>Adult</td>\n",
       "      <td>Low</td>\n",
       "      <td>No Dependants</td>\n",
       "      <td>No</td>\n",
       "      <td>Regular customer</td>\n",
       "      <td>Low Spender</td>\n",
       "      <td>Frequent customer</td>\n",
       "      <td>South</td>\n",
       "    </tr>\n",
       "    <tr>\n",
       "      <th>32404798</th>\n",
       "      <td>11534</td>\n",
       "      <td>Senior</td>\n",
       "      <td>Middle</td>\n",
       "      <td>No Dependants</td>\n",
       "      <td>No</td>\n",
       "      <td>Regular customer</td>\n",
       "      <td>High Spender</td>\n",
       "      <td>Frequent customer</td>\n",
       "      <td>South</td>\n",
       "    </tr>\n",
       "    <tr>\n",
       "      <th>32404810</th>\n",
       "      <td>105857</td>\n",
       "      <td>Young Adult</td>\n",
       "      <td>Low</td>\n",
       "      <td>Has Dependants</td>\n",
       "      <td>No</td>\n",
       "      <td>New customer</td>\n",
       "      <td>High Spender</td>\n",
       "      <td>Frequent customer</td>\n",
       "      <td>West</td>\n",
       "    </tr>\n",
       "    <tr>\n",
       "      <th>32404819</th>\n",
       "      <td>120516</td>\n",
       "      <td>Young Adult</td>\n",
       "      <td>Middle</td>\n",
       "      <td>No Dependants</td>\n",
       "      <td>No</td>\n",
       "      <td>New customer</td>\n",
       "      <td>High Spender</td>\n",
       "      <td>Regular customer</td>\n",
       "      <td>West</td>\n",
       "    </tr>\n",
       "    <tr>\n",
       "      <th>32404829</th>\n",
       "      <td>106143</td>\n",
       "      <td>Young Adult</td>\n",
       "      <td>Middle</td>\n",
       "      <td>No Dependants</td>\n",
       "      <td>No</td>\n",
       "      <td>Regular customer</td>\n",
       "      <td>High Spender</td>\n",
       "      <td>Frequent customer</td>\n",
       "      <td>West</td>\n",
       "    </tr>\n",
       "  </tbody>\n",
       "</table>\n",
       "<p>167586 rows × 9 columns</p>\n",
       "</div>"
      ],
      "text/plain": [
       "         user_id    age_group income_group dependants_flag single_parent  \\\n",
       "0              1        Adult          Low  Has Dependants            No   \n",
       "59            15       Senior       Middle   No Dependants            No   \n",
       "131           19        Adult       Middle  Has Dependants            No   \n",
       "335           21       Senior       Middle   No Dependants            No   \n",
       "540           31        Adult       Middle  Has Dependants            No   \n",
       "...          ...          ...          ...             ...           ...   \n",
       "32404782  178074        Adult          Low   No Dependants            No   \n",
       "32404798   11534       Senior       Middle   No Dependants            No   \n",
       "32404810  105857  Young Adult          Low  Has Dependants            No   \n",
       "32404819  120516  Young Adult       Middle   No Dependants            No   \n",
       "32404829  106143  Young Adult       Middle   No Dependants            No   \n",
       "\n",
       "              loyalty_flag spending_flag        order_frequency   Region  \n",
       "0             New customer   Low Spender  Non-frequent customer    South  \n",
       "59        Regular customer   Low Spender      Frequent customer  Midwest  \n",
       "131           New customer   Low Spender      Frequent customer    South  \n",
       "335       Regular customer   Low Spender      Frequent customer     West  \n",
       "540       Regular customer   Low Spender      Frequent customer    South  \n",
       "...                    ...           ...                    ...      ...  \n",
       "32404782  Regular customer   Low Spender      Frequent customer    South  \n",
       "32404798  Regular customer  High Spender      Frequent customer    South  \n",
       "32404810      New customer  High Spender      Frequent customer     West  \n",
       "32404819      New customer  High Spender       Regular customer     West  \n",
       "32404829  Regular customer  High Spender      Frequent customer     West  \n",
       "\n",
       "[167586 rows x 9 columns]"
      ]
     },
     "execution_count": 55,
     "metadata": {},
     "output_type": "execute_result"
    }
   ],
   "source": [
    "instacart_sample"
   ]
  },
  {
   "cell_type": "code",
   "execution_count": 56,
   "id": "8651e0b4",
   "metadata": {},
   "outputs": [],
   "source": [
    "# Check value counts of age_group -- I used ChatGPT to guide me in creating this pie chart\n",
    "\n",
    "age_group_counts = instacart_sample['age_group'].value_counts()"
   ]
  },
  {
   "cell_type": "code",
   "execution_count": 57,
   "id": "ddb784ff",
   "metadata": {},
   "outputs": [],
   "source": [
    "# Create labels for pie chart\n",
    "\n",
    "labels = age_group_counts.index"
   ]
  },
  {
   "cell_type": "code",
   "execution_count": 58,
   "id": "789dccc0",
   "metadata": {},
   "outputs": [],
   "source": [
    "# Create sizes for pie chart\n",
    "\n",
    "sizes = age_group_counts.values"
   ]
  },
  {
   "cell_type": "code",
   "execution_count": 59,
   "id": "7f0fa8c3",
   "metadata": {},
   "outputs": [],
   "source": [
    "colors = ['teal', 'lightblue', 'lightgrey']"
   ]
  },
  {
   "cell_type": "code",
   "execution_count": 60,
   "id": "4db41aca",
   "metadata": {},
   "outputs": [
    {
     "data": {
      "image/png": "[encoded data removed]",
      "text/plain": [
       "<Figure size 800x600 with 1 Axes>"
      ]
     },
     "metadata": {},
     "output_type": "display_data"
    }
   ],
   "source": [
    "# Create pie chart with help from ChatGPT\n",
    "\n",
    "age_group_pie = plt.figure(figsize=(8, 6))\n",
    "plt.pie(sizes, labels=labels, autopct='%1.1f%%', startangle=140, colors=colors, wedgeprops={'edgecolor': 'black'})\n",
    "plt.title('Distribution of Age Groups')\n",
    "plt.axis('equal')\n",
    "\n",
    "plt.savefig(os.path.join(path, 'Analysis','Visualizations','age_pie.png'))\n",
    "plt.show()"
   ]
  },
  {
   "cell_type": "markdown",
   "id": "642110d2",
   "metadata": {},
   "source": [
    " - This chart shows that adults age 30-64 make up the majority of orders. Seniors are the second largest group and young adults place the least number of orders. "
   ]
  },
  {
   "cell_type": "markdown",
   "id": "f855b7cd",
   "metadata": {},
   "source": [
    "# Task 6b - Create Visualizations - Parent Status\n"
   ]
  },
  {
   "cell_type": "code",
   "execution_count": 61,
   "id": "1a5b990b",
   "metadata": {},
   "outputs": [],
   "source": [
    "# Create subset 'parent' column is only yes\n",
    "\n",
    "parent_df = instacart_kept[(instacart_kept['parent'] == 'Yes')]"
   ]
  },
  {
   "cell_type": "code",
   "execution_count": 62,
   "id": "706e9227",
   "metadata": {},
   "outputs": [],
   "source": [
    "# Create count of 'yes' value in parent column\n",
    "\n",
    "parent_count = parent_df['parent'].value_counts().get('Yes', 0)"
   ]
  },
  {
   "cell_type": "code",
   "execution_count": 63,
   "id": "93cf1358",
   "metadata": {},
   "outputs": [],
   "source": [
    "# Create count of 'yes' value in single_parent column\n",
    "\n",
    "single_parent_count = parent_df['single_parent'].value_counts().get('Yes', 0)"
   ]
  },
  {
   "cell_type": "code",
   "execution_count": 64,
   "id": "d070f49b",
   "metadata": {},
   "outputs": [],
   "source": [
    "# Set counts for bar graph\n",
    "\n",
    "counts = pd.DataFrame({\n",
    "    'category': ['parent', 'single_parent'],\n",
    "    'count': [parent_count, single_parent_count]\n",
    "})"
   ]
  },
  {
   "cell_type": "code",
   "execution_count": 65,
   "id": "6ef9d091",
   "metadata": {},
   "outputs": [
    {
     "data": {
      "image/png": "[encoded data removed]",
      "text/plain": [
       "<Figure size 1000x600 with 1 Axes>"
      ]
     },
     "metadata": {},
     "output_type": "display_data"
    }
   ],
   "source": [
    "# Create bar graph of 'yes' in parents and single parents column\n",
    "\n",
    "parent_bar = plt.figure(figsize=(10, 6))\n",
    "bars = plt.bar(counts['category'], counts['count'], color=['teal', 'lightblue'], edgecolor='black')\n",
    "plt.xlabel('Category')\n",
    "plt.ylabel('Count')\n",
    "plt.title('Counts of Parents and Single Parents in DataFrame')\n",
    "\n",
    "plt.savefig(os.path.join(path, 'Analysis','Visualizations','parent_single_parent_bar.png'))"
   ]
  },
  {
   "cell_type": "markdown",
   "id": "be939da2",
   "metadata": {},
   "source": [
    "- This chart shows the quantity of users in the data frame categorized as 'parent' or more specifically as 'single_parent'. This chart shows that single parents make up a small portion of the dataframe"
   ]
  },
  {
   "cell_type": "code",
   "execution_count": 66,
   "id": "e38388de",
   "metadata": {},
   "outputs": [],
   "source": [
    "# Check value counts of parent column for pie chart\n",
    "\n",
    "parent_count_pie = instacart_kept['parent'].value_counts()"
   ]
  },
  {
   "cell_type": "code",
   "execution_count": 67,
   "id": "0eae62c6",
   "metadata": {},
   "outputs": [],
   "source": [
    "pie_colors = ['teal', 'lightblue']"
   ]
  },
  {
   "cell_type": "code",
   "execution_count": 68,
   "id": "055be8dc",
   "metadata": {},
   "outputs": [
    {
     "data": {
      "image/png": "[encoded data removed]",
      "text/plain": [
       "<Figure size 800x800 with 1 Axes>"
      ]
     },
     "metadata": {},
     "output_type": "display_data"
    }
   ],
   "source": [
    "parent_pie = plt.figure(figsize=(8, 8))\n",
    "plt.pie(parent_count_pie, labels=parent_count_pie.index, autopct='%1.1f%%', startangle=140, colors=pie_colors, wedgeprops={'edgecolor': 'black'})\n",
    "plt.title('Distribution of \"parent\" column')\n",
    "plt.axis('equal') \n",
    "\n",
    "plt.savefig(os.path.join(path, 'Analysis','Visualizations','parent_single_parent_piepng'))\n",
    "            \n",
    "plt.show()"
   ]
  },
  {
   "cell_type": "markdown",
   "id": "0f62a279",
   "metadata": {},
   "source": [
    "- This chart is less useful than I thought it would be. Part of the problem is that I am categorizing parents based on who has purchased items from the babies department. However, just because someone purchases from the baby department doesn't necessarily mean they're a parent, and vice versa. So this chart is less useful then expected. However, it does show that sales from the babies department make up a small portion of transactions."
   ]
  },
  {
   "cell_type": "markdown",
   "id": "0c53ca42",
   "metadata": {},
   "source": [
    "# Task 6c - Create Visualizations - Income\n",
    "\n",
    "- Used ChatGPT to help with this code"
   ]
  },
  {
   "cell_type": "code",
   "execution_count": 69,
   "id": "9d34b5d1",
   "metadata": {},
   "outputs": [],
   "source": [
    "income_counts = instacart_kept['income_group'].value_counts()"
   ]
  },
  {
   "cell_type": "code",
   "execution_count": 128,
   "id": "17587d8d",
   "metadata": {},
   "outputs": [
    {
     "data": {
      "image/png": "[encoded data removed]",
      "text/plain": [
       "<Figure size 640x480 with 1 Axes>"
      ]
     },
     "metadata": {},
     "output_type": "display_data"
    }
   ],
   "source": [
    "income_group_bar = income_counts.plot(kind='bar', color=['teal', 'lightblue', 'lightgrey'], edgecolor='black')\n",
    "plt.title('Income Group Distribution')\n",
    "plt.xlabel('Income Group')\n",
    "plt.ylabel('Count')\n",
    "\n",
    "# Set x-axis labels to be horizontal\n",
    "plt.xticks(rotation=0)\n",
    "\n",
    "# Remove scientific notation on the y-axis\n",
    "plt.ticklabel_format(style='plain', axis='y')\n",
    "\n",
    "# Save the plot\n",
    "plt.savefig(os.path.join(path, 'Analysis', 'Visualizations', 'income_group_bar.png'))\n",
    "\n",
    "# Show the plot\n",
    "plt.show()"
   ]
  },
  {
   "cell_type": "markdown",
   "id": "78e50add",
   "metadata": {},
   "source": [
    "- The vast majority of instacart users fall into the middle class income bracket."
   ]
  },
  {
   "cell_type": "markdown",
   "id": "f04152f7",
   "metadata": {},
   "source": [
    "# Task 6d - Create Visualizations - Dependants"
   ]
  },
  {
   "cell_type": "code",
   "execution_count": 71,
   "id": "936d8ffd",
   "metadata": {},
   "outputs": [],
   "source": [
    "# Create value counts of dependant_flag column\n",
    "\n",
    "dependants_flag_counts = instacart_kept['dependants_flag'].value_counts()"
   ]
  },
  {
   "cell_type": "code",
   "execution_count": 131,
   "id": "341eed23",
   "metadata": {},
   "outputs": [
    {
     "data": {
      "image/png": "[encoded data removed]",
      "text/plain": [
       "<Figure size 800x600 with 1 Axes>"
      ]
     },
     "metadata": {},
     "output_type": "display_data"
    }
   ],
   "source": [
    "# Generate bar graph of dependants_flag column\n",
    "\n",
    "\n",
    "# Create bar plot\n",
    "dependants_bar = plt.figure(figsize=(8, 6))\n",
    "ax = dependants_flag_counts.plot(kind='bar', color=['teal', 'lightblue'], edgecolor='black')\n",
    "\n",
    "# Customize plot\n",
    "ax.set_title('Dependants Bar Chart')\n",
    "ax.set_xlabel('Dependants')\n",
    "ax.set_ylabel('Count')\n",
    "\n",
    "# Set x-axis labels to horizontal\n",
    "ax.set_xticklabels(ax.get_xticklabels(), rotation=0)\n",
    "\n",
    "# Remove scientific notation from y-axis\n",
    "ax.get_yaxis().get_major_formatter().set_scientific(False)\n",
    "\n",
    "# Save the figure\n",
    "plt.savefig(os.path.join(path, 'Analysis', 'Visualizations', 'dependants_bar.png'))\n",
    "\n",
    "# Show plot\n",
    "plt.show()"
   ]
  },
  {
   "cell_type": "markdown",
   "id": "8e412628",
   "metadata": {},
   "source": [
    "- This chart shows that most instacart users have depedants - this conflicts with the previous chart about parents based on baby purchases. However, not all depedants are babies. So, this chart makes sense and shows that the majority of instacart users have dependants in some form. \n"
   ]
  },
  {
   "cell_type": "markdown",
   "id": "9028475d",
   "metadata": {},
   "source": [
    "# Task 7a - Aggregation - Age Groups"
   ]
  },
  {
   "cell_type": "code",
   "execution_count": 73,
   "id": "feaf7e46",
   "metadata": {},
   "outputs": [],
   "source": [
    "# Create subset of dataframe with 'prices' column as the total cost of each order:\n",
    "\n",
    "orders_subset = instacart_kept.groupby(['user_id', 'age_group', 'income_group', 'dependants_flag', 'loyalty_flag', 'Region', 'order_number', 'days_since_prior_order'])['prices'].sum().reset_index()"
   ]
  },
  {
   "cell_type": "code",
   "execution_count": 74,
   "id": "052fa2f2",
   "metadata": {},
   "outputs": [],
   "source": [
    "# Change 'prices' to 'order_total'\n",
    "\n",
    "orders_subset.rename(columns = {'prices' : 'order_total'}, inplace = True)"
   ]
  },
  {
   "cell_type": "code",
   "execution_count": 75,
   "id": "21f8baac",
   "metadata": {},
   "outputs": [
    {
     "data": {
      "text/html": [
       "<div>\n",
       "<style scoped>\n",
       "    .dataframe tbody tr th:only-of-type {\n",
       "        vertical-align: middle;\n",
       "    }\n",
       "\n",
       "    .dataframe tbody tr th {\n",
       "        vertical-align: top;\n",
       "    }\n",
       "\n",
       "    .dataframe thead th {\n",
       "        text-align: right;\n",
       "    }\n",
       "</style>\n",
       "<table border=\"1\" class=\"dataframe\">\n",
       "  <thead>\n",
       "    <tr style=\"text-align: right;\">\n",
       "      <th></th>\n",
       "      <th>user_id</th>\n",
       "      <th>age_group</th>\n",
       "      <th>income_group</th>\n",
       "      <th>dependants_flag</th>\n",
       "      <th>loyalty_flag</th>\n",
       "      <th>Region</th>\n",
       "      <th>order_number</th>\n",
       "      <th>days_since_prior_order</th>\n",
       "      <th>order_total</th>\n",
       "    </tr>\n",
       "  </thead>\n",
       "  <tbody>\n",
       "    <tr>\n",
       "      <th>0</th>\n",
       "      <td>1</td>\n",
       "      <td>Adult</td>\n",
       "      <td>Low</td>\n",
       "      <td>Has Dependants</td>\n",
       "      <td>New customer</td>\n",
       "      <td>South</td>\n",
       "      <td>2</td>\n",
       "      <td>15.0</td>\n",
       "      <td>35.4</td>\n",
       "    </tr>\n",
       "    <tr>\n",
       "      <th>1</th>\n",
       "      <td>1</td>\n",
       "      <td>Adult</td>\n",
       "      <td>Low</td>\n",
       "      <td>Has Dependants</td>\n",
       "      <td>New customer</td>\n",
       "      <td>South</td>\n",
       "      <td>3</td>\n",
       "      <td>21.0</td>\n",
       "      <td>28.2</td>\n",
       "    </tr>\n",
       "    <tr>\n",
       "      <th>2</th>\n",
       "      <td>1</td>\n",
       "      <td>Adult</td>\n",
       "      <td>Low</td>\n",
       "      <td>Has Dependants</td>\n",
       "      <td>New customer</td>\n",
       "      <td>South</td>\n",
       "      <td>4</td>\n",
       "      <td>29.0</td>\n",
       "      <td>26.0</td>\n",
       "    </tr>\n",
       "    <tr>\n",
       "      <th>3</th>\n",
       "      <td>1</td>\n",
       "      <td>Adult</td>\n",
       "      <td>Low</td>\n",
       "      <td>Has Dependants</td>\n",
       "      <td>New customer</td>\n",
       "      <td>South</td>\n",
       "      <td>5</td>\n",
       "      <td>28.0</td>\n",
       "      <td>57.0</td>\n",
       "    </tr>\n",
       "    <tr>\n",
       "      <th>4</th>\n",
       "      <td>1</td>\n",
       "      <td>Adult</td>\n",
       "      <td>Low</td>\n",
       "      <td>Has Dependants</td>\n",
       "      <td>New customer</td>\n",
       "      <td>South</td>\n",
       "      <td>6</td>\n",
       "      <td>19.0</td>\n",
       "      <td>25.0</td>\n",
       "    </tr>\n",
       "  </tbody>\n",
       "</table>\n",
       "</div>"
      ],
      "text/plain": [
       "  user_id age_group income_group dependants_flag  loyalty_flag Region  \\\n",
       "0       1     Adult          Low  Has Dependants  New customer  South   \n",
       "1       1     Adult          Low  Has Dependants  New customer  South   \n",
       "2       1     Adult          Low  Has Dependants  New customer  South   \n",
       "3       1     Adult          Low  Has Dependants  New customer  South   \n",
       "4       1     Adult          Low  Has Dependants  New customer  South   \n",
       "\n",
       "   order_number  days_since_prior_order  order_total  \n",
       "0             2                    15.0         35.4  \n",
       "1             3                    21.0         28.2  \n",
       "2             4                    29.0         26.0  \n",
       "3             5                    28.0         57.0  \n",
       "4             6                    19.0         25.0  "
      ]
     },
     "execution_count": 75,
     "metadata": {},
     "output_type": "execute_result"
    }
   ],
   "source": [
    "# Check head of subset\n",
    "\n",
    "orders_subset.head()"
   ]
  },
  {
   "cell_type": "code",
   "execution_count": 136,
   "id": "8998c19d",
   "metadata": {},
   "outputs": [],
   "source": [
    "# Aggregate age category\n",
    "\n",
    "age_category_aggregation = orders_subset.groupby('age_group').agg({'days_since_prior_order' : ['min', 'mean', 'max'], \n",
    "                                                                  'order_total' : ['min', 'mean', 'max']})"
   ]
  },
  {
   "cell_type": "code",
   "execution_count": 137,
   "id": "ab2b84f1",
   "metadata": {},
   "outputs": [
    {
     "data": {
      "text/html": [
       "<div>\n",
       "<style scoped>\n",
       "    .dataframe tbody tr th:only-of-type {\n",
       "        vertical-align: middle;\n",
       "    }\n",
       "\n",
       "    .dataframe tbody tr th {\n",
       "        vertical-align: top;\n",
       "    }\n",
       "\n",
       "    .dataframe thead tr th {\n",
       "        text-align: left;\n",
       "    }\n",
       "\n",
       "    .dataframe thead tr:last-of-type th {\n",
       "        text-align: right;\n",
       "    }\n",
       "</style>\n",
       "<table border=\"1\" class=\"dataframe\">\n",
       "  <thead>\n",
       "    <tr>\n",
       "      <th></th>\n",
       "      <th colspan=\"3\" halign=\"left\">days_since_prior_order</th>\n",
       "      <th colspan=\"3\" halign=\"left\">order_total</th>\n",
       "    </tr>\n",
       "    <tr>\n",
       "      <th></th>\n",
       "      <th>min</th>\n",
       "      <th>mean</th>\n",
       "      <th>max</th>\n",
       "      <th>min</th>\n",
       "      <th>mean</th>\n",
       "      <th>max</th>\n",
       "    </tr>\n",
       "    <tr>\n",
       "      <th>age_group</th>\n",
       "      <th></th>\n",
       "      <th></th>\n",
       "      <th></th>\n",
       "      <th></th>\n",
       "      <th></th>\n",
       "      <th></th>\n",
       "    </tr>\n",
       "  </thead>\n",
       "  <tbody>\n",
       "    <tr>\n",
       "      <th>Adult</th>\n",
       "      <td>0.0</td>\n",
       "      <td>10.387016</td>\n",
       "      <td>30.0</td>\n",
       "      <td>0.0</td>\n",
       "      <td>78.679841</td>\n",
       "      <td>1092.2</td>\n",
       "    </tr>\n",
       "    <tr>\n",
       "      <th>Senior</th>\n",
       "      <td>0.0</td>\n",
       "      <td>10.372165</td>\n",
       "      <td>30.0</td>\n",
       "      <td>0.0</td>\n",
       "      <td>78.366813</td>\n",
       "      <td>751.1</td>\n",
       "    </tr>\n",
       "    <tr>\n",
       "      <th>Young Adult</th>\n",
       "      <td>0.0</td>\n",
       "      <td>10.401140</td>\n",
       "      <td>30.0</td>\n",
       "      <td>0.0</td>\n",
       "      <td>79.055096</td>\n",
       "      <td>842.1</td>\n",
       "    </tr>\n",
       "  </tbody>\n",
       "</table>\n",
       "</div>"
      ],
      "text/plain": [
       "            days_since_prior_order                  order_total             \\\n",
       "                               min       mean   max         min       mean   \n",
       "age_group                                                                    \n",
       "Adult                          0.0  10.387016  30.0         0.0  78.679841   \n",
       "Senior                         0.0  10.372165  30.0         0.0  78.366813   \n",
       "Young Adult                    0.0  10.401140  30.0         0.0  79.055096   \n",
       "\n",
       "                     \n",
       "                max  \n",
       "age_group            \n",
       "Adult        1092.2  \n",
       "Senior        751.1  \n",
       "Young Adult   842.1  "
      ]
     },
     "execution_count": 137,
     "metadata": {},
     "output_type": "execute_result"
    }
   ],
   "source": [
    "# Check results\n",
    "\n",
    "age_category_aggregation"
   ]
  },
  {
   "cell_type": "markdown",
   "id": "15cb2ff0",
   "metadata": {},
   "source": [
    "- The mean days since prior order is approximately the same for each group. This would suggest relatively consistent ordering patterns amongst age groups. While the mean for order total is also roughly the same across groups, the max value is higher for adults and young adults, suggesting that some adults between the ages of 30 and 64 may spend more or make larger orders."
   ]
  },
  {
   "cell_type": "markdown",
   "id": "83aba884",
   "metadata": {},
   "source": [
    "# Task 7b - Aggregation - Income Groups"
   ]
  },
  {
   "cell_type": "code",
   "execution_count": 78,
   "id": "8011cb8c",
   "metadata": {},
   "outputs": [],
   "source": [
    "# Aggregate income group column\n",
    "\n",
    "income_category_aggregation = orders_subset.groupby('income_group').agg({'days_since_prior_order' : ['min', 'mean', 'max'],\n",
    "                                                                        'order_total' : ['min', 'mean', 'max']})"
   ]
  },
  {
   "cell_type": "code",
   "execution_count": 79,
   "id": "311af8e2",
   "metadata": {},
   "outputs": [
    {
     "data": {
      "text/html": [
       "<div>\n",
       "<style scoped>\n",
       "    .dataframe tbody tr th:only-of-type {\n",
       "        vertical-align: middle;\n",
       "    }\n",
       "\n",
       "    .dataframe tbody tr th {\n",
       "        vertical-align: top;\n",
       "    }\n",
       "\n",
       "    .dataframe thead tr th {\n",
       "        text-align: left;\n",
       "    }\n",
       "\n",
       "    .dataframe thead tr:last-of-type th {\n",
       "        text-align: right;\n",
       "    }\n",
       "</style>\n",
       "<table border=\"1\" class=\"dataframe\">\n",
       "  <thead>\n",
       "    <tr>\n",
       "      <th></th>\n",
       "      <th colspan=\"3\" halign=\"left\">days_since_prior_order</th>\n",
       "      <th colspan=\"3\" halign=\"left\">order_total</th>\n",
       "    </tr>\n",
       "    <tr>\n",
       "      <th></th>\n",
       "      <th>min</th>\n",
       "      <th>mean</th>\n",
       "      <th>max</th>\n",
       "      <th>min</th>\n",
       "      <th>mean</th>\n",
       "      <th>max</th>\n",
       "    </tr>\n",
       "    <tr>\n",
       "      <th>income_group</th>\n",
       "      <th></th>\n",
       "      <th></th>\n",
       "      <th></th>\n",
       "      <th></th>\n",
       "      <th></th>\n",
       "      <th></th>\n",
       "    </tr>\n",
       "  </thead>\n",
       "  <tbody>\n",
       "    <tr>\n",
       "      <th>High</th>\n",
       "      <td>0.0</td>\n",
       "      <td>10.116443</td>\n",
       "      <td>30.0</td>\n",
       "      <td>0.0</td>\n",
       "      <td>84.359338</td>\n",
       "      <td>1047.4</td>\n",
       "    </tr>\n",
       "    <tr>\n",
       "      <th>Low</th>\n",
       "      <td>0.0</td>\n",
       "      <td>11.049171</td>\n",
       "      <td>30.0</td>\n",
       "      <td>1.0</td>\n",
       "      <td>53.565990</td>\n",
       "      <td>875.0</td>\n",
       "    </tr>\n",
       "    <tr>\n",
       "      <th>Middle</th>\n",
       "      <td>0.0</td>\n",
       "      <td>10.287313</td>\n",
       "      <td>30.0</td>\n",
       "      <td>0.0</td>\n",
       "      <td>82.902383</td>\n",
       "      <td>1092.2</td>\n",
       "    </tr>\n",
       "  </tbody>\n",
       "</table>\n",
       "</div>"
      ],
      "text/plain": [
       "             days_since_prior_order                  order_total             \\\n",
       "                                min       mean   max         min       mean   \n",
       "income_group                                                                  \n",
       "High                            0.0  10.116443  30.0         0.0  84.359338   \n",
       "Low                             0.0  11.049171  30.0         1.0  53.565990   \n",
       "Middle                          0.0  10.287313  30.0         0.0  82.902383   \n",
       "\n",
       "                      \n",
       "                 max  \n",
       "income_group          \n",
       "High          1047.4  \n",
       "Low            875.0  \n",
       "Middle        1092.2  "
      ]
     },
     "execution_count": 79,
     "metadata": {},
     "output_type": "execute_result"
    }
   ],
   "source": [
    "# Check results\n",
    "\n",
    "income_category_aggregation"
   ]
  },
  {
   "cell_type": "markdown",
   "id": "c34ab1e1",
   "metadata": {},
   "source": [
    "- This data shows that people with low incomes -place orders slightly less frquently than people with middle or high incomes based on the mean value for days since prior order. People in the low income group also place orders with a lower mean value then people in the middle and high income groups. People in the high and middle income groups have a similar mean value for order total, suggesting that they spend similarly, while people from the low income group spend much less on their orders. "
   ]
  },
  {
   "cell_type": "markdown",
   "id": "978bd1c4",
   "metadata": {},
   "source": [
    "# Task 7c - Aggregation - Dependants"
   ]
  },
  {
   "cell_type": "code",
   "execution_count": 80,
   "id": "8bd291d9",
   "metadata": {},
   "outputs": [],
   "source": [
    "# Aggregate dependants_flag column\n",
    "\n",
    "dependants_flag_aggregation = orders_subset.groupby('dependants_flag').agg({'days_since_prior_order' : ['min', 'mean', 'max'],\n",
    "                                                                               'order_total' : ['min', 'mean', 'max']})"
   ]
  },
  {
   "cell_type": "code",
   "execution_count": 81,
   "id": "1a18e58c",
   "metadata": {},
   "outputs": [
    {
     "data": {
      "text/html": [
       "<div>\n",
       "<style scoped>\n",
       "    .dataframe tbody tr th:only-of-type {\n",
       "        vertical-align: middle;\n",
       "    }\n",
       "\n",
       "    .dataframe tbody tr th {\n",
       "        vertical-align: top;\n",
       "    }\n",
       "\n",
       "    .dataframe thead tr th {\n",
       "        text-align: left;\n",
       "    }\n",
       "\n",
       "    .dataframe thead tr:last-of-type th {\n",
       "        text-align: right;\n",
       "    }\n",
       "</style>\n",
       "<table border=\"1\" class=\"dataframe\">\n",
       "  <thead>\n",
       "    <tr>\n",
       "      <th></th>\n",
       "      <th colspan=\"3\" halign=\"left\">days_since_prior_order</th>\n",
       "      <th colspan=\"3\" halign=\"left\">order_total</th>\n",
       "    </tr>\n",
       "    <tr>\n",
       "      <th></th>\n",
       "      <th>min</th>\n",
       "      <th>mean</th>\n",
       "      <th>max</th>\n",
       "      <th>min</th>\n",
       "      <th>mean</th>\n",
       "      <th>max</th>\n",
       "    </tr>\n",
       "    <tr>\n",
       "      <th>dependants_flag</th>\n",
       "      <th></th>\n",
       "      <th></th>\n",
       "      <th></th>\n",
       "      <th></th>\n",
       "      <th></th>\n",
       "      <th></th>\n",
       "    </tr>\n",
       "  </thead>\n",
       "  <tbody>\n",
       "    <tr>\n",
       "      <th>Has Dependants</th>\n",
       "      <td>0.0</td>\n",
       "      <td>10.388225</td>\n",
       "      <td>30.0</td>\n",
       "      <td>0.0</td>\n",
       "      <td>78.728425</td>\n",
       "      <td>1092.2</td>\n",
       "    </tr>\n",
       "    <tr>\n",
       "      <th>No Dependants</th>\n",
       "      <td>0.0</td>\n",
       "      <td>10.378169</td>\n",
       "      <td>30.0</td>\n",
       "      <td>0.0</td>\n",
       "      <td>78.482107</td>\n",
       "      <td>875.0</td>\n",
       "    </tr>\n",
       "  </tbody>\n",
       "</table>\n",
       "</div>"
      ],
      "text/plain": [
       "                days_since_prior_order                  order_total  \\\n",
       "                                   min       mean   max         min   \n",
       "dependants_flag                                                       \n",
       "Has Dependants                     0.0  10.388225  30.0         0.0   \n",
       "No Dependants                      0.0  10.378169  30.0         0.0   \n",
       "\n",
       "                                    \n",
       "                      mean     max  \n",
       "dependants_flag                     \n",
       "Has Dependants   78.728425  1092.2  \n",
       "No Dependants    78.482107   875.0  "
      ]
     },
     "execution_count": 81,
     "metadata": {},
     "output_type": "execute_result"
    }
   ],
   "source": [
    "dependants_flag_aggregation"
   ]
  },
  {
   "cell_type": "markdown",
   "id": "1a48e036",
   "metadata": {},
   "source": [
    "- Customer with dependants have a higher max value for order totals, however, the mean values are the same for both groups suggesting similarity in spending patterns. "
   ]
  },
  {
   "cell_type": "markdown",
   "id": "83b0c409",
   "metadata": {},
   "source": [
    "# Task 8 -  Compare Customer Profiles with Regions & Departments"
   ]
  },
  {
   "cell_type": "markdown",
   "id": "0691d00d",
   "metadata": {},
   "source": [
    "# Count of Users in each Income Group by Region"
   ]
  },
  {
   "cell_type": "code",
   "execution_count": 82,
   "id": "5b0e2a45",
   "metadata": {},
   "outputs": [
    {
     "data": {
      "image/png": "[encoded data removed]",
      "text/plain": [
       "<Figure size 1200x800 with 1 Axes>"
      ]
     },
     "metadata": {},
     "output_type": "display_data"
    }
   ],
   "source": [
    "# Generate user counts for bar graph\n",
    "\n",
    "user_counts = orders_subset.groupby(['Region', 'income_group'])['user_id'].nunique().reset_index()\n",
    "\n",
    "# Rename the column to reflect the count of unique users\n",
    "user_counts.rename(columns={'user_id': 'user_count'}, inplace=True)\n",
    "\n",
    "# Create the bar plot with custom colors and black borders\n",
    "plt.figure(figsize=(12, 8))\n",
    "palette = ['teal', 'navy', 'lightblue']\n",
    "bar_plot = sns.barplot(x='Region', y='user_count', hue='income_group', data=user_counts, palette=palette)\n",
    "\n",
    "# Add black borders to the bars\n",
    "for bar in bar_plot.patches:\n",
    "    bar.set_edgecolor('black')\n",
    "    bar.set_linewidth(1.5)\n",
    "\n",
    "# Add titles and labels\n",
    "plt.title('Number of Users Grouped by Region and Income Group')\n",
    "plt.xlabel('Region')\n",
    "plt.ylabel('Number of Users')\n",
    "plt.legend(title='Income Group')\n",
    "\n",
    "# Save the plot as an image file\n",
    "plt.savefig(os.path.join(path, 'Analysis','Visualizations','region_income_bar.png'), bbox_inches='tight')\n",
    "\n",
    "# Display the plot\n",
    "plt.show()"
   ]
  },
  {
   "cell_type": "markdown",
   "id": "8e4cb591",
   "metadata": {},
   "source": [
    "- Middle income customers make up the majority of users regardless of region"
   ]
  },
  {
   "cell_type": "markdown",
   "id": "3440649c",
   "metadata": {},
   "source": [
    "# Count of Users in each Age Group by Region"
   ]
  },
  {
   "cell_type": "code",
   "execution_count": 83,
   "id": "a8208cb8",
   "metadata": {},
   "outputs": [],
   "source": [
    "# Step 1: Group the data by 'age_group' and 'Region'\n",
    "grouped_data = orders_subset.groupby(['age_group', 'Region'])\n"
   ]
  },
  {
   "cell_type": "code",
   "execution_count": 84,
   "id": "21bf2925",
   "metadata": {},
   "outputs": [],
   "source": [
    "# Step 2: Count the number of user_ids in each age group and region\n",
    "count_user_ids = grouped_data.size().unstack(fill_value=0)\n",
    "\n",
    "# Reorder DataFrame so that the rows are sorted by the total number of users, with the highest first\n",
    "count_user_ids = count_user_ids.loc[count_user_ids.sum(axis=1).sort_values(ascending=False).index]\n",
    "\n",
    "\n"
   ]
  },
  {
   "cell_type": "code",
   "execution_count": 85,
   "id": "d67003f0",
   "metadata": {},
   "outputs": [
    {
     "data": {
      "image/png": "[encoded data removed]",
      "text/plain": [
       "<Figure size 640x480 with 1 Axes>"
      ]
     },
     "metadata": {},
     "output_type": "display_data"
    }
   ],
   "source": [
    "# Step 3: Plot the bar chart with customized colors, arrangement, and black borders\n",
    "ax = count_user_ids.plot(kind='bar', stacked=False, color=['navy', 'teal', 'lightblue', 'lightgrey'], edgecolor='black')\n",
    "\n",
    "plt.xlabel('Age Group')\n",
    "plt.ylabel('Number of Users')\n",
    "plt.title('Number of Users by Age Group and Region')\n",
    "plt.xticks(rotation=45)  # Rotate x-axis labels for better readability\n",
    "plt.legend(title='Region')\n",
    "\n",
    "# Save the figure before showing it\n",
    "plt.savefig(os.path.join(path, 'Analysis','Visualizations','age_region_bar.png'), format='png', dpi=300, bbox_inches='tight')"
   ]
  },
  {
   "cell_type": "markdown",
   "id": "c22fe179",
   "metadata": {},
   "source": [
    "- The majority of users fall into the 'adult' category, regardless of region."
   ]
  },
  {
   "cell_type": "markdown",
   "id": "19cfa210",
   "metadata": {},
   "source": [
    "# Count of Users with Dependants by Region"
   ]
  },
  {
   "cell_type": "code",
   "execution_count": 86,
   "id": "24331d54",
   "metadata": {},
   "outputs": [],
   "source": [
    "# Group by 'Region' and 'dependants_flag', count 'user_id', and unstack 'dependants_flag'\n",
    "\n",
    "grouped = orders_subset.groupby(['Region', 'dependants_flag'])['user_id'].count().unstack()\n"
   ]
  },
  {
   "cell_type": "code",
   "execution_count": 87,
   "id": "a2802677",
   "metadata": {},
   "outputs": [
    {
     "data": {
      "image/png": "[encoded data removed]",
      "text/plain": [
       "<Figure size 640x480 with 1 Axes>"
      ]
     },
     "metadata": {},
     "output_type": "display_data"
    }
   ],
   "source": [
    "# Plotting the bar graph\n",
    "\n",
    "ax = grouped.plot(kind='bar', color=['navy', 'lightgrey'], edgecolor='black')\n",
    "plt.title('Count of User IDs by Dependants Flag and Region')\n",
    "plt.xlabel('Region')\n",
    "plt.ylabel('Count of User IDs')\n",
    "plt.xticks(rotation=45)\n",
    "plt.legend(title='Dependants Flag')\n",
    "\n",
    "plt.savefig(os.path.join(path, 'Analysis','Visualizations','dependants_region_bar.png'))\n",
    "\n",
    "plt.show()"
   ]
  },
  {
   "cell_type": "markdown",
   "id": "b6ab0ab7",
   "metadata": {},
   "source": [
    "- Most users have at least one dependant"
   ]
  },
  {
   "cell_type": "markdown",
   "id": "cb9c0a8f",
   "metadata": {},
   "source": [
    "# Merge in Department Name Data"
   ]
  },
  {
   "cell_type": "code",
   "execution_count": 88,
   "id": "ff985d12",
   "metadata": {},
   "outputs": [
    {
     "data": {
      "text/html": [
       "<div>\n",
       "<style scoped>\n",
       "    .dataframe tbody tr th:only-of-type {\n",
       "        vertical-align: middle;\n",
       "    }\n",
       "\n",
       "    .dataframe tbody tr th {\n",
       "        vertical-align: top;\n",
       "    }\n",
       "\n",
       "    .dataframe thead th {\n",
       "        text-align: right;\n",
       "    }\n",
       "</style>\n",
       "<table border=\"1\" class=\"dataframe\">\n",
       "  <thead>\n",
       "    <tr style=\"text-align: right;\">\n",
       "      <th></th>\n",
       "      <th>department_id</th>\n",
       "      <th>1</th>\n",
       "      <th>2</th>\n",
       "      <th>3</th>\n",
       "      <th>4</th>\n",
       "      <th>5</th>\n",
       "      <th>6</th>\n",
       "      <th>7</th>\n",
       "      <th>8</th>\n",
       "      <th>9</th>\n",
       "      <th>...</th>\n",
       "      <th>12</th>\n",
       "      <th>13</th>\n",
       "      <th>14</th>\n",
       "      <th>15</th>\n",
       "      <th>16</th>\n",
       "      <th>17</th>\n",
       "      <th>18</th>\n",
       "      <th>19</th>\n",
       "      <th>20</th>\n",
       "      <th>21</th>\n",
       "    </tr>\n",
       "  </thead>\n",
       "  <tbody>\n",
       "    <tr>\n",
       "      <th>0</th>\n",
       "      <td>department</td>\n",
       "      <td>frozen</td>\n",
       "      <td>other</td>\n",
       "      <td>bakery</td>\n",
       "      <td>produce</td>\n",
       "      <td>alcohol</td>\n",
       "      <td>international</td>\n",
       "      <td>beverages</td>\n",
       "      <td>pets</td>\n",
       "      <td>dry goods pasta</td>\n",
       "      <td>...</td>\n",
       "      <td>meat seafood</td>\n",
       "      <td>pantry</td>\n",
       "      <td>breakfast</td>\n",
       "      <td>canned goods</td>\n",
       "      <td>dairy eggs</td>\n",
       "      <td>household</td>\n",
       "      <td>babies</td>\n",
       "      <td>snacks</td>\n",
       "      <td>deli</td>\n",
       "      <td>missing</td>\n",
       "    </tr>\n",
       "  </tbody>\n",
       "</table>\n",
       "<p>1 rows × 22 columns</p>\n",
       "</div>"
      ],
      "text/plain": [
       "  department_id       1      2       3        4        5              6  \\\n",
       "0    department  frozen  other  bakery  produce  alcohol  international   \n",
       "\n",
       "           7     8                9  ...            12      13         14  \\\n",
       "0  beverages  pets  dry goods pasta  ...  meat seafood  pantry  breakfast   \n",
       "\n",
       "             15          16         17      18      19    20       21  \n",
       "0  canned goods  dairy eggs  household  babies  snacks  deli  missing  \n",
       "\n",
       "[1 rows x 22 columns]"
      ]
     },
     "execution_count": 88,
     "metadata": {},
     "output_type": "execute_result"
    }
   ],
   "source": [
    "# Check dataframe\n",
    "\n",
    "df_dep"
   ]
  },
  {
   "cell_type": "code",
   "execution_count": 89,
   "id": "766e6a57",
   "metadata": {},
   "outputs": [],
   "source": [
    "# Tranpose\n",
    "\n",
    "departments = df_dep.T"
   ]
  },
  {
   "cell_type": "code",
   "execution_count": 90,
   "id": "315de10a",
   "metadata": {},
   "outputs": [],
   "source": [
    "# Create index\n",
    "\n",
    "departments.reset_index(inplace = True)"
   ]
  },
  {
   "cell_type": "code",
   "execution_count": 91,
   "id": "b2653475",
   "metadata": {},
   "outputs": [],
   "source": [
    "# Copy row 0 into variable\n",
    "new_header = departments.iloc[0]"
   ]
  },
  {
   "cell_type": "code",
   "execution_count": 92,
   "id": "33fee8f5",
   "metadata": {},
   "outputs": [],
   "source": [
    "# Remove row 0\n",
    "departments = departments[1:]"
   ]
  },
  {
   "cell_type": "code",
   "execution_count": 93,
   "id": "6679ab8c",
   "metadata": {},
   "outputs": [],
   "source": [
    "# assign header row\n",
    "\n",
    "departments.columns = new_header"
   ]
  },
  {
   "cell_type": "code",
   "execution_count": 94,
   "id": "f75d0fcd",
   "metadata": {},
   "outputs": [
    {
     "data": {
      "text/html": [
       "<div>\n",
       "<style scoped>\n",
       "    .dataframe tbody tr th:only-of-type {\n",
       "        vertical-align: middle;\n",
       "    }\n",
       "\n",
       "    .dataframe tbody tr th {\n",
       "        vertical-align: top;\n",
       "    }\n",
       "\n",
       "    .dataframe thead th {\n",
       "        text-align: right;\n",
       "    }\n",
       "</style>\n",
       "<table border=\"1\" class=\"dataframe\">\n",
       "  <thead>\n",
       "    <tr style=\"text-align: right;\">\n",
       "      <th></th>\n",
       "      <th>department_id</th>\n",
       "      <th>department</th>\n",
       "    </tr>\n",
       "  </thead>\n",
       "  <tbody>\n",
       "    <tr>\n",
       "      <th>1</th>\n",
       "      <td>1</td>\n",
       "      <td>frozen</td>\n",
       "    </tr>\n",
       "    <tr>\n",
       "      <th>2</th>\n",
       "      <td>2</td>\n",
       "      <td>other</td>\n",
       "    </tr>\n",
       "    <tr>\n",
       "      <th>3</th>\n",
       "      <td>3</td>\n",
       "      <td>bakery</td>\n",
       "    </tr>\n",
       "    <tr>\n",
       "      <th>4</th>\n",
       "      <td>4</td>\n",
       "      <td>produce</td>\n",
       "    </tr>\n",
       "    <tr>\n",
       "      <th>5</th>\n",
       "      <td>5</td>\n",
       "      <td>alcohol</td>\n",
       "    </tr>\n",
       "    <tr>\n",
       "      <th>6</th>\n",
       "      <td>6</td>\n",
       "      <td>international</td>\n",
       "    </tr>\n",
       "    <tr>\n",
       "      <th>7</th>\n",
       "      <td>7</td>\n",
       "      <td>beverages</td>\n",
       "    </tr>\n",
       "    <tr>\n",
       "      <th>8</th>\n",
       "      <td>8</td>\n",
       "      <td>pets</td>\n",
       "    </tr>\n",
       "    <tr>\n",
       "      <th>9</th>\n",
       "      <td>9</td>\n",
       "      <td>dry goods pasta</td>\n",
       "    </tr>\n",
       "    <tr>\n",
       "      <th>10</th>\n",
       "      <td>10</td>\n",
       "      <td>bulk</td>\n",
       "    </tr>\n",
       "    <tr>\n",
       "      <th>11</th>\n",
       "      <td>11</td>\n",
       "      <td>personal care</td>\n",
       "    </tr>\n",
       "    <tr>\n",
       "      <th>12</th>\n",
       "      <td>12</td>\n",
       "      <td>meat seafood</td>\n",
       "    </tr>\n",
       "    <tr>\n",
       "      <th>13</th>\n",
       "      <td>13</td>\n",
       "      <td>pantry</td>\n",
       "    </tr>\n",
       "    <tr>\n",
       "      <th>14</th>\n",
       "      <td>14</td>\n",
       "      <td>breakfast</td>\n",
       "    </tr>\n",
       "    <tr>\n",
       "      <th>15</th>\n",
       "      <td>15</td>\n",
       "      <td>canned goods</td>\n",
       "    </tr>\n",
       "    <tr>\n",
       "      <th>16</th>\n",
       "      <td>16</td>\n",
       "      <td>dairy eggs</td>\n",
       "    </tr>\n",
       "    <tr>\n",
       "      <th>17</th>\n",
       "      <td>17</td>\n",
       "      <td>household</td>\n",
       "    </tr>\n",
       "    <tr>\n",
       "      <th>18</th>\n",
       "      <td>18</td>\n",
       "      <td>babies</td>\n",
       "    </tr>\n",
       "    <tr>\n",
       "      <th>19</th>\n",
       "      <td>19</td>\n",
       "      <td>snacks</td>\n",
       "    </tr>\n",
       "    <tr>\n",
       "      <th>20</th>\n",
       "      <td>20</td>\n",
       "      <td>deli</td>\n",
       "    </tr>\n",
       "    <tr>\n",
       "      <th>21</th>\n",
       "      <td>21</td>\n",
       "      <td>missing</td>\n",
       "    </tr>\n",
       "  </tbody>\n",
       "</table>\n",
       "</div>"
      ],
      "text/plain": [
       "0  department_id       department\n",
       "1              1           frozen\n",
       "2              2            other\n",
       "3              3           bakery\n",
       "4              4          produce\n",
       "5              5          alcohol\n",
       "6              6    international\n",
       "7              7        beverages\n",
       "8              8             pets\n",
       "9              9  dry goods pasta\n",
       "10            10             bulk\n",
       "11            11    personal care\n",
       "12            12     meat seafood\n",
       "13            13           pantry\n",
       "14            14        breakfast\n",
       "15            15     canned goods\n",
       "16            16       dairy eggs\n",
       "17            17        household\n",
       "18            18           babies\n",
       "19            19           snacks\n",
       "20            20             deli\n",
       "21            21          missing"
      ]
     },
     "execution_count": 94,
     "metadata": {},
     "output_type": "execute_result"
    }
   ],
   "source": [
    "# check\n",
    "\n",
    "departments"
   ]
  },
  {
   "cell_type": "code",
   "execution_count": 95,
   "id": "c5daa380",
   "metadata": {},
   "outputs": [
    {
     "data": {
      "text/plain": [
       "Index(['order_id', 'user_id', 'eval_set', 'order_number', 'order_dow',\n",
       "       'order_hour_of_day', 'days_since_prior_order', 'product_id',\n",
       "       'add_to_cart_order', 'reordered', 'product_name', 'aisle_id',\n",
       "       'department_id', 'prices', 'price_range_loc', 'busiest_day',\n",
       "       'busiest_days', 'busiest_period_of_day', 'max_order', 'loyalty_flag',\n",
       "       'mean_product_price', 'spending_flag', 'median_days_between_orders',\n",
       "       'order_frequency', 'gender', 'state', 'age', 'date_joined',\n",
       "       'n_dependants', 'marital_status', 'income', '_merge', 'Region',\n",
       "       'exclusion_flag', 'parent', 'single_parent', 'age_group',\n",
       "       'income_group', 'dependants_flag'],\n",
       "      dtype='object')"
      ]
     },
     "execution_count": 95,
     "metadata": {},
     "output_type": "execute_result"
    }
   ],
   "source": [
    "# Check instacart_kept columns\n",
    "\n",
    "instacart_kept.columns"
   ]
  },
  {
   "cell_type": "code",
   "execution_count": 96,
   "id": "6e7b00dc",
   "metadata": {},
   "outputs": [],
   "source": [
    "# Create list of columns for new subset\n",
    "\n",
    "subset_list =   ['order_id', 'user_id', 'order_number',  \n",
    "    'product_name', 'department_id', 'prices', 'loyalty_flag',\n",
    "     'state', 'marital_status', 'Region',\n",
    "    'age_group', 'income_group', 'dependants_flag']"
   ]
  },
  {
   "cell_type": "code",
   "execution_count": 97,
   "id": "4ba5762f",
   "metadata": {},
   "outputs": [],
   "source": [
    "# Create subset with only relevant columns to merge with department names list\n",
    "\n",
    "comparison_subset = instacart_kept[subset_list]"
   ]
  },
  {
   "cell_type": "code",
   "execution_count": 98,
   "id": "0b9191a5",
   "metadata": {},
   "outputs": [
    {
     "data": {
      "text/html": [
       "<div>\n",
       "<style scoped>\n",
       "    .dataframe tbody tr th:only-of-type {\n",
       "        vertical-align: middle;\n",
       "    }\n",
       "\n",
       "    .dataframe tbody tr th {\n",
       "        vertical-align: top;\n",
       "    }\n",
       "\n",
       "    .dataframe thead th {\n",
       "        text-align: right;\n",
       "    }\n",
       "</style>\n",
       "<table border=\"1\" class=\"dataframe\">\n",
       "  <thead>\n",
       "    <tr style=\"text-align: right;\">\n",
       "      <th></th>\n",
       "      <th>order_id</th>\n",
       "      <th>user_id</th>\n",
       "      <th>order_number</th>\n",
       "      <th>product_name</th>\n",
       "      <th>department_id</th>\n",
       "      <th>prices</th>\n",
       "      <th>loyalty_flag</th>\n",
       "      <th>state</th>\n",
       "      <th>marital_status</th>\n",
       "      <th>Region</th>\n",
       "      <th>age_group</th>\n",
       "      <th>income_group</th>\n",
       "      <th>dependants_flag</th>\n",
       "    </tr>\n",
       "  </thead>\n",
       "  <tbody>\n",
       "    <tr>\n",
       "      <th>0</th>\n",
       "      <td>2539329</td>\n",
       "      <td>1</td>\n",
       "      <td>1</td>\n",
       "      <td>Soda</td>\n",
       "      <td>7</td>\n",
       "      <td>9.0</td>\n",
       "      <td>New customer</td>\n",
       "      <td>Alabama</td>\n",
       "      <td>married</td>\n",
       "      <td>South</td>\n",
       "      <td>Adult</td>\n",
       "      <td>Low</td>\n",
       "      <td>Has Dependants</td>\n",
       "    </tr>\n",
       "    <tr>\n",
       "      <th>1</th>\n",
       "      <td>2398795</td>\n",
       "      <td>1</td>\n",
       "      <td>2</td>\n",
       "      <td>Soda</td>\n",
       "      <td>7</td>\n",
       "      <td>9.0</td>\n",
       "      <td>New customer</td>\n",
       "      <td>Alabama</td>\n",
       "      <td>married</td>\n",
       "      <td>South</td>\n",
       "      <td>Adult</td>\n",
       "      <td>Low</td>\n",
       "      <td>Has Dependants</td>\n",
       "    </tr>\n",
       "    <tr>\n",
       "      <th>2</th>\n",
       "      <td>473747</td>\n",
       "      <td>1</td>\n",
       "      <td>3</td>\n",
       "      <td>Soda</td>\n",
       "      <td>7</td>\n",
       "      <td>9.0</td>\n",
       "      <td>New customer</td>\n",
       "      <td>Alabama</td>\n",
       "      <td>married</td>\n",
       "      <td>South</td>\n",
       "      <td>Adult</td>\n",
       "      <td>Low</td>\n",
       "      <td>Has Dependants</td>\n",
       "    </tr>\n",
       "    <tr>\n",
       "      <th>3</th>\n",
       "      <td>2254736</td>\n",
       "      <td>1</td>\n",
       "      <td>4</td>\n",
       "      <td>Soda</td>\n",
       "      <td>7</td>\n",
       "      <td>9.0</td>\n",
       "      <td>New customer</td>\n",
       "      <td>Alabama</td>\n",
       "      <td>married</td>\n",
       "      <td>South</td>\n",
       "      <td>Adult</td>\n",
       "      <td>Low</td>\n",
       "      <td>Has Dependants</td>\n",
       "    </tr>\n",
       "    <tr>\n",
       "      <th>4</th>\n",
       "      <td>431534</td>\n",
       "      <td>1</td>\n",
       "      <td>5</td>\n",
       "      <td>Soda</td>\n",
       "      <td>7</td>\n",
       "      <td>9.0</td>\n",
       "      <td>New customer</td>\n",
       "      <td>Alabama</td>\n",
       "      <td>married</td>\n",
       "      <td>South</td>\n",
       "      <td>Adult</td>\n",
       "      <td>Low</td>\n",
       "      <td>Has Dependants</td>\n",
       "    </tr>\n",
       "  </tbody>\n",
       "</table>\n",
       "</div>"
      ],
      "text/plain": [
       "  order_id user_id  order_number product_name  department_id  prices  \\\n",
       "0  2539329       1             1         Soda              7     9.0   \n",
       "1  2398795       1             2         Soda              7     9.0   \n",
       "2   473747       1             3         Soda              7     9.0   \n",
       "3  2254736       1             4         Soda              7     9.0   \n",
       "4   431534       1             5         Soda              7     9.0   \n",
       "\n",
       "   loyalty_flag    state marital_status Region age_group income_group  \\\n",
       "0  New customer  Alabama        married  South     Adult          Low   \n",
       "1  New customer  Alabama        married  South     Adult          Low   \n",
       "2  New customer  Alabama        married  South     Adult          Low   \n",
       "3  New customer  Alabama        married  South     Adult          Low   \n",
       "4  New customer  Alabama        married  South     Adult          Low   \n",
       "\n",
       "  dependants_flag  \n",
       "0  Has Dependants  \n",
       "1  Has Dependants  \n",
       "2  Has Dependants  \n",
       "3  Has Dependants  \n",
       "4  Has Dependants  "
      ]
     },
     "execution_count": 98,
     "metadata": {},
     "output_type": "execute_result"
    }
   ],
   "source": [
    "# check head of subset\n",
    "\n",
    "comparison_subset.head()"
   ]
  },
  {
   "cell_type": "code",
   "execution_count": 99,
   "id": "67d54146",
   "metadata": {},
   "outputs": [],
   "source": [
    "# Make sure data type is same in both dataframe\n",
    "\n",
    "departments['department_id'] = departments['department_id'].astype('int8')"
   ]
  },
  {
   "cell_type": "code",
   "execution_count": 100,
   "id": "3e8512cf",
   "metadata": {},
   "outputs": [
    {
     "name": "stderr",
     "output_type": "stream",
     "text": [
      "C:\\Users\\cschw\\AppData\\Local\\Temp\\ipykernel_26148\\3143675569.py:3: SettingWithCopyWarning: \n",
      "A value is trying to be set on a copy of a slice from a DataFrame.\n",
      "Try using .loc[row_indexer,col_indexer] = value instead\n",
      "\n",
      "See the caveats in the documentation: https://pandas.pydata.org/pandas-docs/stable/user_guide/indexing.html#returning-a-view-versus-a-copy\n",
      "  comparison_subset['department_id'] = comparison_subset['department_id'].astype('int8')\n"
     ]
    }
   ],
   "source": [
    "# Make sure data type is same\n",
    "\n",
    "comparison_subset['department_id'] = comparison_subset['department_id'].astype('int8')"
   ]
  },
  {
   "cell_type": "code",
   "execution_count": 101,
   "id": "632e9113",
   "metadata": {},
   "outputs": [],
   "source": [
    "# Merge on department_id\n",
    "\n",
    "department_comparison_subset = comparison_subset.merge(departments, on = 'department_id', indicator = True)"
   ]
  },
  {
   "cell_type": "code",
   "execution_count": 102,
   "id": "1054e9c6",
   "metadata": {},
   "outputs": [
    {
     "data": {
      "text/html": [
       "<div>\n",
       "<style scoped>\n",
       "    .dataframe tbody tr th:only-of-type {\n",
       "        vertical-align: middle;\n",
       "    }\n",
       "\n",
       "    .dataframe tbody tr th {\n",
       "        vertical-align: top;\n",
       "    }\n",
       "\n",
       "    .dataframe thead th {\n",
       "        text-align: right;\n",
       "    }\n",
       "</style>\n",
       "<table border=\"1\" class=\"dataframe\">\n",
       "  <thead>\n",
       "    <tr style=\"text-align: right;\">\n",
       "      <th></th>\n",
       "      <th>order_id</th>\n",
       "      <th>user_id</th>\n",
       "      <th>order_number</th>\n",
       "      <th>product_name</th>\n",
       "      <th>department_id</th>\n",
       "      <th>prices</th>\n",
       "      <th>loyalty_flag</th>\n",
       "      <th>state</th>\n",
       "      <th>marital_status</th>\n",
       "      <th>Region</th>\n",
       "      <th>age_group</th>\n",
       "      <th>income_group</th>\n",
       "      <th>dependants_flag</th>\n",
       "      <th>department</th>\n",
       "      <th>_merge</th>\n",
       "    </tr>\n",
       "  </thead>\n",
       "  <tbody>\n",
       "    <tr>\n",
       "      <th>0</th>\n",
       "      <td>2539329</td>\n",
       "      <td>1</td>\n",
       "      <td>1</td>\n",
       "      <td>Soda</td>\n",
       "      <td>7</td>\n",
       "      <td>9.0</td>\n",
       "      <td>New customer</td>\n",
       "      <td>Alabama</td>\n",
       "      <td>married</td>\n",
       "      <td>South</td>\n",
       "      <td>Adult</td>\n",
       "      <td>Low</td>\n",
       "      <td>Has Dependants</td>\n",
       "      <td>beverages</td>\n",
       "      <td>both</td>\n",
       "    </tr>\n",
       "    <tr>\n",
       "      <th>1</th>\n",
       "      <td>2398795</td>\n",
       "      <td>1</td>\n",
       "      <td>2</td>\n",
       "      <td>Soda</td>\n",
       "      <td>7</td>\n",
       "      <td>9.0</td>\n",
       "      <td>New customer</td>\n",
       "      <td>Alabama</td>\n",
       "      <td>married</td>\n",
       "      <td>South</td>\n",
       "      <td>Adult</td>\n",
       "      <td>Low</td>\n",
       "      <td>Has Dependants</td>\n",
       "      <td>beverages</td>\n",
       "      <td>both</td>\n",
       "    </tr>\n",
       "    <tr>\n",
       "      <th>2</th>\n",
       "      <td>473747</td>\n",
       "      <td>1</td>\n",
       "      <td>3</td>\n",
       "      <td>Soda</td>\n",
       "      <td>7</td>\n",
       "      <td>9.0</td>\n",
       "      <td>New customer</td>\n",
       "      <td>Alabama</td>\n",
       "      <td>married</td>\n",
       "      <td>South</td>\n",
       "      <td>Adult</td>\n",
       "      <td>Low</td>\n",
       "      <td>Has Dependants</td>\n",
       "      <td>beverages</td>\n",
       "      <td>both</td>\n",
       "    </tr>\n",
       "    <tr>\n",
       "      <th>3</th>\n",
       "      <td>2254736</td>\n",
       "      <td>1</td>\n",
       "      <td>4</td>\n",
       "      <td>Soda</td>\n",
       "      <td>7</td>\n",
       "      <td>9.0</td>\n",
       "      <td>New customer</td>\n",
       "      <td>Alabama</td>\n",
       "      <td>married</td>\n",
       "      <td>South</td>\n",
       "      <td>Adult</td>\n",
       "      <td>Low</td>\n",
       "      <td>Has Dependants</td>\n",
       "      <td>beverages</td>\n",
       "      <td>both</td>\n",
       "    </tr>\n",
       "    <tr>\n",
       "      <th>4</th>\n",
       "      <td>431534</td>\n",
       "      <td>1</td>\n",
       "      <td>5</td>\n",
       "      <td>Soda</td>\n",
       "      <td>7</td>\n",
       "      <td>9.0</td>\n",
       "      <td>New customer</td>\n",
       "      <td>Alabama</td>\n",
       "      <td>married</td>\n",
       "      <td>South</td>\n",
       "      <td>Adult</td>\n",
       "      <td>Low</td>\n",
       "      <td>Has Dependants</td>\n",
       "      <td>beverages</td>\n",
       "      <td>both</td>\n",
       "    </tr>\n",
       "  </tbody>\n",
       "</table>\n",
       "</div>"
      ],
      "text/plain": [
       "  order_id user_id  order_number product_name  department_id  prices  \\\n",
       "0  2539329       1             1         Soda              7     9.0   \n",
       "1  2398795       1             2         Soda              7     9.0   \n",
       "2   473747       1             3         Soda              7     9.0   \n",
       "3  2254736       1             4         Soda              7     9.0   \n",
       "4   431534       1             5         Soda              7     9.0   \n",
       "\n",
       "   loyalty_flag    state marital_status Region age_group income_group  \\\n",
       "0  New customer  Alabama        married  South     Adult          Low   \n",
       "1  New customer  Alabama        married  South     Adult          Low   \n",
       "2  New customer  Alabama        married  South     Adult          Low   \n",
       "3  New customer  Alabama        married  South     Adult          Low   \n",
       "4  New customer  Alabama        married  South     Adult          Low   \n",
       "\n",
       "  dependants_flag department _merge  \n",
       "0  Has Dependants  beverages   both  \n",
       "1  Has Dependants  beverages   both  \n",
       "2  Has Dependants  beverages   both  \n",
       "3  Has Dependants  beverages   both  \n",
       "4  Has Dependants  beverages   both  "
      ]
     },
     "execution_count": 102,
     "metadata": {},
     "output_type": "execute_result"
    }
   ],
   "source": [
    "department_comparison_subset.head()"
   ]
  },
  {
   "cell_type": "markdown",
   "id": "fca08501",
   "metadata": {},
   "source": [
    "# Top 10 Departments"
   ]
  },
  {
   "cell_type": "code",
   "execution_count": 103,
   "id": "8e85bfe2",
   "metadata": {},
   "outputs": [
    {
     "data": {
      "image/png": "[encoded data removed]",
      "text/plain": [
       "<Figure size 1000x600 with 1 Axes>"
      ]
     },
     "metadata": {},
     "output_type": "display_data"
    }
   ],
   "source": [
    "top_departments = department_comparison_subset['department'].value_counts().nlargest(10)\n",
    "\n",
    "# Define different shades of blue for each bar\n",
    "colors = ['darkblue', 'mediumblue', 'blue', 'royalblue', 'cornflowerblue',\n",
    "         'deepskyblue', 'skyblue',  'lightsteelblue', 'lightblue', 'powderblue']\n",
    "\n",
    "plt.figure(figsize=(10,6))  # Adjust the figure size as needed\n",
    "bars = plt.barh(top_departments.index, top_departments.values, color=colors, edgecolor='black')\n",
    "\n",
    "# Set the x-axis label and title\n",
    "plt.xlabel('Quantity of Products Sold')\n",
    "plt.title('Top 10 Departments by Products Sold')\n",
    "\n",
    "# Invert y-axis to have the highest value at the top\n",
    "plt.gca().invert_yaxis()\n",
    "\n",
    "# Format y-axis to avoid scientific notation\n",
    "plt.ticklabel_format(style='plain', axis='x')\n",
    "\n",
    "plt.savefig(os.path.join(path, 'Analysis','Visualizations','top_10_departments_bar.png'))\n",
    "\n",
    "plt.show()"
   ]
  },
  {
   "cell_type": "markdown",
   "id": "4fc52ac9",
   "metadata": {},
   "source": [
    "# Top 5 Departments by Income Group"
   ]
  },
  {
   "cell_type": "code",
   "execution_count": 104,
   "id": "347e3c1e",
   "metadata": {},
   "outputs": [
    {
     "data": {
      "image/png": "[encoded data removed]",
      "text/plain": [
       "<Figure size 1200x1800 with 3 Axes>"
      ]
     },
     "metadata": {},
     "output_type": "display_data"
    }
   ],
   "source": [
    "# Group by income_group and department, count occurrences, and sort\n",
    "income_department_counts = department_comparison_subset.groupby(['income_group', 'department']).size().reset_index(name='counts')\n",
    "income_department_counts.sort_values(by=['income_group', 'counts'], ascending=False, inplace=True)\n",
    "\n",
    "# Create subplots and color scheme\n",
    "fig, axs = plt.subplots(3, 1, figsize=(12, 18))\n",
    "colors = ['navy', 'teal', 'darkturquoise', 'lightblue', 'lightgrey'] \n",
    "\n",
    "# Define the desired order of income groups\n",
    "desired_order = ['High', 'Middle', 'Low']\n",
    "\n",
    "# Iterate over each income group and create a horizontal bar chart\n",
    "for i, income_group in enumerate(desired_order):\n",
    "    income_data = income_department_counts[income_department_counts['income_group'] == income_group].head(5)\n",
    "    ax = axs[i]\n",
    "    ax.barh(income_data['department'], income_data['counts'], color=colors, edgecolor='black', zorder=2)\n",
    "    ax.set_title(f'Top 5 Departments for {income_group}-earners')\n",
    "    ax.set_xlabel('Total Products Sold')\n",
    "    ax.set_xlim(0, 4500000)  # Keep x-axis range consistent for comparisons\n",
    "    ax.ticklabel_format(style='plain', axis='x')\n",
    "    ax.set_ylabel('')\n",
    "    ax.invert_yaxis()  # Invert y-axis to have the highest count at the top\n",
    "    ax.grid(axis='x', color='gray', linestyle='dashed')\n",
    "\n",
    "plt.tight_layout()\n",
    "\n",
    "plt.savefig(os.path.join(path, 'Analysis','Visualizations','income_departments_bar.png'))\n",
    "            \n",
    "plt.show()\n"
   ]
  },
  {
   "cell_type": "markdown",
   "id": "4e2ca80f",
   "metadata": {},
   "source": [
    "- The top 5 departments are the same regardless of income bracket. This suggests relative consistency in terms of product popularity"
   ]
  },
  {
   "cell_type": "markdown",
   "id": "e45bb95d",
   "metadata": {},
   "source": [
    "# Top 5 Departments by Age Group"
   ]
  },
  {
   "cell_type": "code",
   "execution_count": 105,
   "id": "ceaca91e",
   "metadata": {},
   "outputs": [
    {
     "data": {
      "image/png": "[encoded data removed]",
      "text/plain": [
       "<Figure size 1200x1800 with 3 Axes>"
      ]
     },
     "metadata": {},
     "output_type": "display_data"
    }
   ],
   "source": [
    "# Group by age_group and department, count occurrences, and sort\n",
    "age_department_counts = department_comparison_subset.groupby(['age_group', 'department']).size().reset_index(name='counts')\n",
    "age_department_counts.sort_values(by=['age_group', 'counts'], ascending=False, inplace=True)\n",
    "\n",
    "# Create subplots and color scheme\n",
    "fig, axs = plt.subplots(3, 1, figsize=(12, 18))\n",
    "colors = ['navy', 'teal', 'darkturquoise', 'lightblue', 'lightgrey'] \n",
    "\n",
    "# Define the desired order of income groups\n",
    "desired_order = ['Young Adult', 'Adult', 'Senior']\n",
    "\n",
    "# Iterate over each income group and create a horizontal bar chart\n",
    "for i, age_group in enumerate(desired_order):\n",
    "    age_data = age_department_counts[age_department_counts['age_group'] == age_group].head(5)\n",
    "    ax = axs[i]\n",
    "    ax.barh(age_data['department'], age_data['counts'], color=colors, edgecolor='black', zorder=2)\n",
    "    ax.set_title(f'Top 5 Departments for {age_group}')\n",
    "    ax.set_xlabel('Total Products Sold')\n",
    "    ax.set_xlim(0, 4500000)  # Keep x-axis range consistent for comparisons\n",
    "    ax.ticklabel_format(style='plain', axis='x')\n",
    "    ax.set_ylabel('')\n",
    "    ax.invert_yaxis()  # Invert y-axis to have the highest count at the top\n",
    "    ax.grid(axis='x', color='gray', linestyle='dashed')\n",
    "\n",
    "plt.tight_layout()\n",
    "\n",
    "plt.savefig(os.path.join(path, 'Analysis','Visualizations','age_departments_bar.png'))\n",
    "\n",
    "plt.show()\n"
   ]
  },
  {
   "cell_type": "markdown",
   "id": "3ef5e58d",
   "metadata": {},
   "source": [
    "- The top five departments are the same across age group, again suggesting consistency in ordering patterns"
   ]
  },
  {
   "cell_type": "markdown",
   "id": "af6e8832",
   "metadata": {},
   "source": [
    "# Top 5 Departments by Dependant Status"
   ]
  },
  {
   "cell_type": "code",
   "execution_count": 106,
   "id": "7d294787",
   "metadata": {},
   "outputs": [
    {
     "data": {
      "image/png": "[encoded data removed]",
      "text/plain": [
       "<Figure size 1200x1800 with 2 Axes>"
      ]
     },
     "metadata": {},
     "output_type": "display_data"
    }
   ],
   "source": [
    "# Group by dependants_flag and department, count occurrences, and sort\n",
    "dependants_department_counts = department_comparison_subset.groupby(['dependants_flag', 'department']).size().reset_index(name='counts')\n",
    "dependants_department_counts.sort_values(by=['dependants_flag', 'counts'], ascending=False, inplace=True)\n",
    "\n",
    "# Create subplots and color scheme\n",
    "fig, axs = plt.subplots(2, 1, figsize=(12, 18))\n",
    "colors = ['navy', 'teal', 'darkturquoise', 'lightblue', 'lightgrey'] \n",
    "\n",
    "# Define the desired order of income groups\n",
    "desired_order = ['Has Dependants', 'No Dependants']\n",
    "\n",
    "# Iterate over each income group and create a horizontal bar chart\n",
    "for i, dependants_flag in enumerate(desired_order):\n",
    "    dependants_data = dependants_department_counts[dependants_department_counts['dependants_flag'] == dependants_flag].head(5)\n",
    "    ax = axs[i]\n",
    "    ax.barh(age_data['department'], age_data['counts'], color=colors, edgecolor='black', zorder=2)\n",
    "    ax.set_title(f'Top 5 Departments for {dependants_flag}')\n",
    "    ax.set_xlabel('Total Products Sold')\n",
    "    ax.set_xlim(0, 4500000)  # Keep x-axis range consistent for comparisons\n",
    "    ax.ticklabel_format(style='plain', axis='x')\n",
    "    ax.set_ylabel('')\n",
    "    ax.invert_yaxis()  # Invert y-axis to have the highest count at the top\n",
    "    ax.grid(axis='x', color='gray', linestyle='dashed')\n",
    "\n",
    "plt.tight_layout()\n",
    "\n",
    "plt.savefig(os.path.join(path, 'Analysis','Visualizations','dependants_departments_bar.png'))\n",
    "\n",
    "plt.show()"
   ]
  },
  {
   "cell_type": "markdown",
   "id": "8b30ae3d",
   "metadata": {},
   "source": [
    " - The departments are again consistently the same here regardless of dependant status"
   ]
  },
  {
   "cell_type": "markdown",
   "id": "f2fb57a4",
   "metadata": {},
   "source": [
    "# Additional Charts"
   ]
  },
  {
   "cell_type": "code",
   "execution_count": 111,
   "id": "dfc32862",
   "metadata": {},
   "outputs": [
    {
     "data": {
      "image/png": "[encoded data removed]",
      "text/plain": [
       "<Figure size 1000x600 with 1 Axes>"
      ]
     },
     "metadata": {},
     "output_type": "display_data"
    }
   ],
   "source": [
    "average_prices = department_comparison_subset.groupby('loyalty_flag')['prices'].mean().reset_index()\n",
    "\n",
    "# Define the colors\n",
    "colors = ['darkblue', 'teal', 'lightblue']\n",
    "\n",
    "# Create the bar graph\n",
    "plt.figure(figsize=(10, 6))\n",
    "bars = plt.bar(average_prices['loyalty_flag'], average_prices['prices'], color=colors, edgecolor='black')\n",
    "\n",
    "# Title and labels\n",
    "plt.title('Average Product Price by Loyalty Status')\n",
    "plt.xlabel('Loyalty Status')\n",
    "plt.ylabel('Average Product Price')\n",
    "\n",
    "plt.savefig(os.path.join(path, 'Analysis','Visualizations','loyalty_prices_bar.png'))\n",
    "\n",
    "# Show the plot\n",
    "plt.show()"
   ]
  },
  {
   "cell_type": "code",
   "execution_count": 121,
   "id": "c13c64b3",
   "metadata": {},
   "outputs": [
    {
     "data": {
      "image/png": "[encoded data removed]",
      "text/plain": [
       "<Figure size 640x480 with 1 Axes>"
      ]
     },
     "metadata": {},
     "output_type": "display_data"
    }
   ],
   "source": [
    "# Grouping by 'region' and counting 'product_name'\n",
    "grouped_data = department_comparison_subset.groupby('Region')['product_name'].count()\n",
    "\n",
    "# Plotting\n",
    "colors = ['darkblue', 'teal', 'lightblue', 'lightgrey']\n",
    "\n",
    "fig, ax = plt.subplots()\n",
    "bars = ax.bar(grouped_data.index, grouped_data.values, color=colors, edgecolor='black')\n",
    "\n",
    "# Disable scientific notation\n",
    "ax.ticklabel_format(style='plain', axis='y')\n",
    "\n",
    "# Adding title and labels\n",
    "ax.set_title('Products Sold by Region')\n",
    "ax.set_xlabel('Region')\n",
    "ax.set_ylabel('Count of Products')\n",
    "\n",
    "plt.savefig(os.path.join(path, 'Analysis','Visualizations','region_product_bar.png'))\n",
    "\n",
    "# Display the plot\n",
    "plt.show()"
   ]
  },
  {
   "cell_type": "code",
   "execution_count": 127,
   "id": "280bde97",
   "metadata": {},
   "outputs": [
    {
     "data": {
      "image/png": "[encoded data removed]",
      "text/plain": [
       "<Figure size 640x480 with 1 Axes>"
      ]
     },
     "metadata": {},
     "output_type": "display_data"
    }
   ],
   "source": [
    "# Group by 'region' and calculate the mean of 'prices'\n",
    "avg_prices = department_comparison_subset.groupby('Region')['prices'].mean()\n",
    "\n",
    "# Define colors\n",
    "colors2 = ['darkblue', 'teal', 'lightblue', 'lightgrey']\n",
    "\n",
    "# Create the bar plot\n",
    "fig, ax = plt.subplots()\n",
    "\n",
    "# Ensure the number of colors matches the number of bars\n",
    "bars = ax.bar(avg_prices.index, avg_prices, color=colors2[:len(avg_prices)], edgecolor='black')\n",
    "\n",
    "# Title and labels\n",
    "ax.set_title('Average Product Price by Region')\n",
    "ax.set_xlabel('Region')\n",
    "ax.set_ylabel('Average Price')\n",
    "\n",
    "# Remove scientific notation on the Y axis\n",
    "ax.get_yaxis().get_major_formatter().set_scientific(False)\n",
    "\n",
    "plt.savefig(os.path.join(path, 'Analysis','Visualizations','region_product_price_bar.png'))\n",
    "\n",
    "# Display the plot\n",
    "plt.show()"
   ]
  },
  {
   "cell_type": "markdown",
   "id": "6a8066d4",
   "metadata": {},
   "source": [
    "# Export Data Sets"
   ]
  },
  {
   "cell_type": "code",
   "execution_count": 108,
   "id": "8b6e9f17",
   "metadata": {},
   "outputs": [
    {
     "ename": "KeyboardInterrupt",
     "evalue": "",
     "output_type": "error",
     "traceback": [
      "\u001b[1;31m---------------------------------------------------------------------------\u001b[0m",
      "\u001b[1;31mKeyboardInterrupt\u001b[0m                         Traceback (most recent call last)",
      "Cell \u001b[1;32mIn[108], line 1\u001b[0m\n\u001b[1;32m----> 1\u001b[0m instacart_kept\u001b[38;5;241m.\u001b[39mto_pickle(os\u001b[38;5;241m.\u001b[39mpath\u001b[38;5;241m.\u001b[39mjoin(path, \u001b[38;5;124m'\u001b[39m\u001b[38;5;124mData\u001b[39m\u001b[38;5;124m'\u001b[39m,\u001b[38;5;124m'\u001b[39m\u001b[38;5;124mPrepared Data\u001b[39m\u001b[38;5;124m'\u001b[39m, \u001b[38;5;124m'\u001b[39m\u001b[38;5;124minstacart_kept.pkl\u001b[39m\u001b[38;5;124m'\u001b[39m))\n",
      "File \u001b[1;32m~\\anaconda3\\Lib\\site-packages\\pandas\\core\\generic.py:3085\u001b[0m, in \u001b[0;36mNDFrame.to_pickle\u001b[1;34m(self, path, compression, protocol, storage_options)\u001b[0m\n\u001b[0;32m   3033\u001b[0m \u001b[38;5;250m\u001b[39m\u001b[38;5;124;03m\"\"\"\u001b[39;00m\n\u001b[0;32m   3034\u001b[0m \u001b[38;5;124;03mPickle (serialize) object to file.\u001b[39;00m\n\u001b[0;32m   3035\u001b[0m \n\u001b[1;32m   (...)\u001b[0m\n\u001b[0;32m   3081\u001b[0m \u001b[38;5;124;03m4    4    9\u001b[39;00m\n\u001b[0;32m   3082\u001b[0m \u001b[38;5;124;03m\"\"\"\u001b[39;00m  \u001b[38;5;66;03m# noqa: E501\u001b[39;00m\n\u001b[0;32m   3083\u001b[0m \u001b[38;5;28;01mfrom\u001b[39;00m \u001b[38;5;21;01mpandas\u001b[39;00m\u001b[38;5;21;01m.\u001b[39;00m\u001b[38;5;21;01mio\u001b[39;00m\u001b[38;5;21;01m.\u001b[39;00m\u001b[38;5;21;01mpickle\u001b[39;00m \u001b[38;5;28;01mimport\u001b[39;00m to_pickle\n\u001b[1;32m-> 3085\u001b[0m to_pickle(\n\u001b[0;32m   3086\u001b[0m     \u001b[38;5;28mself\u001b[39m,\n\u001b[0;32m   3087\u001b[0m     path,\n\u001b[0;32m   3088\u001b[0m     compression\u001b[38;5;241m=\u001b[39mcompression,\n\u001b[0;32m   3089\u001b[0m     protocol\u001b[38;5;241m=\u001b[39mprotocol,\n\u001b[0;32m   3090\u001b[0m     storage_options\u001b[38;5;241m=\u001b[39mstorage_options,\n\u001b[0;32m   3091\u001b[0m )\n",
      "File \u001b[1;32m~\\anaconda3\\Lib\\site-packages\\pandas\\io\\pickle.py:113\u001b[0m, in \u001b[0;36mto_pickle\u001b[1;34m(obj, filepath_or_buffer, compression, protocol, storage_options)\u001b[0m\n\u001b[0;32m    103\u001b[0m     protocol \u001b[38;5;241m=\u001b[39m pickle\u001b[38;5;241m.\u001b[39mHIGHEST_PROTOCOL\n\u001b[0;32m    105\u001b[0m \u001b[38;5;28;01mwith\u001b[39;00m get_handle(\n\u001b[0;32m    106\u001b[0m     filepath_or_buffer,\n\u001b[0;32m    107\u001b[0m     \u001b[38;5;124m\"\u001b[39m\u001b[38;5;124mwb\u001b[39m\u001b[38;5;124m\"\u001b[39m,\n\u001b[1;32m   (...)\u001b[0m\n\u001b[0;32m    111\u001b[0m ) \u001b[38;5;28;01mas\u001b[39;00m handles:\n\u001b[0;32m    112\u001b[0m     \u001b[38;5;66;03m# letting pickle write directly to the buffer is more memory-efficient\u001b[39;00m\n\u001b[1;32m--> 113\u001b[0m     pickle\u001b[38;5;241m.\u001b[39mdump(obj, handles\u001b[38;5;241m.\u001b[39mhandle, protocol\u001b[38;5;241m=\u001b[39mprotocol)\n",
      "\u001b[1;31mKeyboardInterrupt\u001b[0m: "
     ]
    }
   ],
   "source": [
    "instacart_kept.to_pickle(os.path.join(path, 'Data','Prepared Data', 'instacart_kept.pkl'))"
   ]
  },
  {
   "cell_type": "code",
   "execution_count": null,
   "id": "bc4b2185",
   "metadata": {},
   "outputs": [],
   "source": [
    "instacart_sample.to_pickle(os.path.join(path, 'Data','Prepared Data', 'instacart_sample_task_10.pkl'))"
   ]
  },
  {
   "cell_type": "code",
   "execution_count": null,
   "id": "c016ed76",
   "metadata": {},
   "outputs": [],
   "source": [
    "department_comparison_subset.to_pickle(os.path.join(path, 'Data','Prepared Data', 'department_comparison_subset.pkl'))"
   ]
  }
 ],
 "metadata": {
  "kernelspec": {
   "display_name": "Python 3 (ipykernel)",
   "language": "python",
   "name": "python3"
  },
  "language_info": {
   "codemirror_mode": {
    "name": "ipython",
    "version": 3
   },
   "file_extension": ".py",
   "mimetype": "text/x-python",
   "name": "python",
   "nbconvert_exporter": "python",
   "pygments_lexer": "ipython3",
   "version": "3.11.7"
  }
 },
 "nbformat": 4,
 "nbformat_minor": 5
}
